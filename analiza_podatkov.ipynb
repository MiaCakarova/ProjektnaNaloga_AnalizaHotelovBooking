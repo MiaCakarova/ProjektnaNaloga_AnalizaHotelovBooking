{
 "cells": [
  {
   "cell_type": "markdown",
   "metadata": {},
   "source": [
    "# ANALIZA PODATKOV O HOTELIH"
   ]
  },
  {
   "cell_type": "markdown",
   "metadata": {},
   "source": [
    "V tem delu bomo pridobljene podatke predelali, analizirali in jih primerjali."
   ]
  },
  {
   "cell_type": "code",
   "execution_count": 2,
   "metadata": {},
   "outputs": [],
   "source": [
    "# tabele bomo analizirali s pomočjo pandas, zato ga naložimo\n",
    "import pandas as pd\n",
    "\n",
    "# ker so razpredelnice velike, povemo, naj vedno izpiše le prvih 10 vrstic\n",
    "pd.set_option('display.max_rows', 10)\n",
    "\n",
    "# naložimo csv-je\n",
    "amsterdam = pd.read_csv('amsterdam.csv')\n",
    "split = pd.read_csv('split.csv')\n",
    "lizbona = pd.read_csv('lizbona.csv') "
   ]
  },
  {
   "cell_type": "markdown",
   "metadata": {},
   "source": [
    "Kot pričakovano, nas najprej zanima katera lokacija ima v povprečju najdražje oz. najcenejše prenočitve in katera v poprečju najvišje oz. najnižje ocene."
   ]
  },
  {
   "cell_type": "code",
   "execution_count": null,
   "metadata": {},
   "outputs": [],
   "source": []
  }
 ],
 "metadata": {
  "kernelspec": {
   "display_name": "venv",
   "language": "python",
   "name": "python3"
  },
  "language_info": {
   "codemirror_mode": {
    "name": "ipython",
    "version": 3
   },
   "file_extension": ".py",
   "mimetype": "text/x-python",
   "name": "python",
   "nbconvert_exporter": "python",
   "pygments_lexer": "ipython3",
   "version": "3.12.3"
  }
 },
 "nbformat": 4,
 "nbformat_minor": 2
}
