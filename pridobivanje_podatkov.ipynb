{
 "cells": [
  {
   "cell_type": "markdown",
   "metadata": {},
   "source": [
    "# PRIDOBIVANJE INFORMACIJ O HOTELIH"
   ]
  },
  {
   "cell_type": "markdown",
   "metadata": {},
   "source": [
    "V tem delu bomo pridobili podatke iz spleta o nastanitvah oz. hotelih v Amsterdamu, na Splitu in Mikonosu. "
   ]
  },
  {
   "cell_type": "markdown",
   "metadata": {},
   "source": [
    "## Pomožna orodja za pridobivanje podatkov iz spleta"
   ]
  },
  {
   "cell_type": "code",
   "execution_count": 1,
   "metadata": {},
   "outputs": [],
   "source": [
    "# Definirajmo URL-je strani na Bookingu s hoteli z različnim številom zvezdic (v nadaljevanju bomo razložili zakaj)\n",
    "\n",
    "# Amsterdam:\n",
    "a_url_1 = 'https://www.booking.com/searchresults.sl.html?label=sl-si-booking-desktop-FsnyDB7yiGUix7z9_JK_IgS652796012637%3Apl%3Ata%3Ap1%3Ap2%3Aac%3Aap%3Aneg%3Afi%3Atikwd-65526620%3Alp9062551%3Ali%3Adec%3Adm&aid=2311236&ss=Amsterdam%2C+Noord-Holland%2C+Netherlands&ssne=Pariz+-+sredi%C5%A1%C4%8De&ssne_untouched=Pariz+-+sredi%C5%A1%C4%8De&lang=sl&src=searchresults&dest_id=-2140479&dest_type=city&ac_position=0&ac_click_type=b&ac_langcode=en&ac_suggestion_list_length=5&search_selected=true&search_pageview_id=9a3a8bcb930700d4&checkin=2024-09-14&checkout=2024-09-15&group_adults=2&no_rooms=1&group_children=0&nflt=ht_id%3D204%3Bclass%3D1'\n",
    "a_url_2 = 'https://www.booking.com/searchresults.sl.html?label=sl-si-booking-desktop-FsnyDB7yiGUix7z9_JK_IgS652796012637%3Apl%3Ata%3Ap1%3Ap2%3Aac%3Aap%3Aneg%3Afi%3Atikwd-65526620%3Alp9062551%3Ali%3Adec%3Adm&aid=2311236&ss=Amsterdam%2C+Noord-Holland%2C+Netherlands&ssne=Pariz+-+sredi%C5%A1%C4%8De&ssne_untouched=Pariz+-+sredi%C5%A1%C4%8De&lang=sl&src=searchresults&dest_id=-2140479&dest_type=city&ac_position=0&ac_click_type=b&ac_langcode=en&ac_suggestion_list_length=5&search_selected=true&search_pageview_id=9a3a8bcb930700d4&checkin=2024-09-14&checkout=2024-09-15&group_adults=2&no_rooms=1&group_children=0&nflt=ht_id%3D204%3Bclass%3D2'\n",
    "a_url_3 = 'https://www.booking.com/searchresults.sl.html?label=sl-si-booking-desktop-FsnyDB7yiGUix7z9_JK_IgS652796012637%3Apl%3Ata%3Ap1%3Ap2%3Aac%3Aap%3Aneg%3Afi%3Atikwd-65526620%3Alp9062551%3Ali%3Adec%3Adm&aid=2311236&ss=Amsterdam%2C+Noord-Holland%2C+Netherlands&ssne=Pariz+-+sredi%C5%A1%C4%8De&ssne_untouched=Pariz+-+sredi%C5%A1%C4%8De&lang=sl&src=searchresults&dest_id=-2140479&dest_type=city&ac_position=0&ac_click_type=b&ac_langcode=en&ac_suggestion_list_length=5&search_selected=true&search_pageview_id=9a3a8bcb930700d4&checkin=2024-09-14&checkout=2024-09-15&group_adults=2&no_rooms=1&group_children=0&nflt=ht_id%3D204%3Bclass%3D3'\n",
    "a_url_4 = 'https://www.booking.com/searchresults.sl.html?label=sl-si-booking-desktop-FsnyDB7yiGUix7z9_JK_IgS652796012637%3Apl%3Ata%3Ap1%3Ap2%3Aac%3Aap%3Aneg%3Afi%3Atikwd-65526620%3Alp9062551%3Ali%3Adec%3Adm&aid=2311236&ss=Amsterdam%2C+Noord-Holland%2C+Netherlands&ssne=Pariz+-+sredi%C5%A1%C4%8De&ssne_untouched=Pariz+-+sredi%C5%A1%C4%8De&lang=sl&src=searchresults&dest_id=-2140479&dest_type=city&ac_position=0&ac_click_type=b&ac_langcode=en&ac_suggestion_list_length=5&search_selected=true&search_pageview_id=9a3a8bcb930700d4&checkin=2024-09-14&checkout=2024-09-15&group_adults=2&no_rooms=1&group_children=0&nflt=ht_id%3D204%3Bclass%3D4'\n",
    "a_url_5 = 'https://www.booking.com/searchresults.sl.html?label=sl-si-booking-desktop-FsnyDB7yiGUix7z9_JK_IgS652796012637%3Apl%3Ata%3Ap1%3Ap2%3Aac%3Aap%3Aneg%3Afi%3Atikwd-65526620%3Alp9062551%3Ali%3Adec%3Adm&aid=2311236&ss=Amsterdam%2C+Noord-Holland%2C+Netherlands&ssne=Pariz+-+sredi%C5%A1%C4%8De&ssne_untouched=Pariz+-+sredi%C5%A1%C4%8De&lang=sl&src=searchresults&dest_id=-2140479&dest_type=city&ac_position=0&ac_click_type=b&ac_langcode=en&ac_suggestion_list_length=5&search_selected=true&search_pageview_id=9a3a8bcb930700d4&checkin=2024-09-14&checkout=2024-09-15&group_adults=2&no_rooms=1&group_children=0&nflt=ht_id%3D204%3Bclass%3D5'\n",
    "\n",
    "# Split:\n",
    "# (v našem primeru na Splitu za izbran dan ni hotelov z eno z zvezdico)\n",
    "s_url_2 = 'https://www.booking.com/searchresults.sl.html?label=sl-si-booking-desktop-FsnyDB7yiGUix7z9_JK_IgS652796012637%3Apl%3Ata%3Ap1%3Ap2%3Aac%3Aap%3Aneg%3Afi%3Atikwd-65526620%3Alp9062551%3Ali%3Adec%3Adm&aid=2311236&ss=Split%2C+Hrva%C5%A1ka&ssne=Mikonos&ssne_untouched=Mikonos&lang=sl&src=searchresults&dest_id=1794&dest_type=region&ac_position=1&ac_click_type=b&ac_langcode=sl&ac_suggestion_list_length=5&search_selected=true&search_pageview_id=2a818a293800089c&checkin=2024-09-14&checkout=2024-09-15&group_adults=2&no_rooms=1&group_children=0&nflt=ht_id%3D204%3Bclass%3D2'\n",
    "s_url_3 = 'https://www.booking.com/searchresults.sl.html?label=sl-si-booking-desktop-FsnyDB7yiGUix7z9_JK_IgS652796012637%3Apl%3Ata%3Ap1%3Ap2%3Aac%3Aap%3Aneg%3Afi%3Atikwd-65526620%3Alp9062551%3Ali%3Adec%3Adm&aid=2311236&ss=Split%2C+Hrva%C5%A1ka&ssne=Mikonos&ssne_untouched=Mikonos&lang=sl&src=searchresults&dest_id=1794&dest_type=region&ac_position=1&ac_click_type=b&ac_langcode=sl&ac_suggestion_list_length=5&search_selected=true&search_pageview_id=2a818a293800089c&checkin=2024-09-14&checkout=2024-09-15&group_adults=2&no_rooms=1&group_children=0&nflt=ht_id%3D204%3Bclass%3D3'\n",
    "s_url_4 = 'https://www.booking.com/searchresults.sl.html?label=sl-si-booking-desktop-FsnyDB7yiGUix7z9_JK_IgS652796012637%3Apl%3Ata%3Ap1%3Ap2%3Aac%3Aap%3Aneg%3Afi%3Atikwd-65526620%3Alp9062551%3Ali%3Adec%3Adm&aid=2311236&ss=Split%2C+Hrva%C5%A1ka&ssne=Mikonos&ssne_untouched=Mikonos&lang=sl&src=searchresults&dest_id=1794&dest_type=region&ac_position=1&ac_click_type=b&ac_langcode=sl&ac_suggestion_list_length=5&search_selected=true&search_pageview_id=2a818a293800089c&checkin=2024-09-14&checkout=2024-09-15&group_adults=2&no_rooms=1&group_children=0&nflt=ht_id%3D204%3Bclass%3D4'\n",
    "s_url_5 = 'https://www.booking.com/searchresults.sl.html?label=sl-si-booking-desktop-FsnyDB7yiGUix7z9_JK_IgS652796012637%3Apl%3Ata%3Ap1%3Ap2%3Aac%3Aap%3Aneg%3Afi%3Atikwd-65526620%3Alp9062551%3Ali%3Adec%3Adm&aid=2311236&ss=Split%2C+Hrva%C5%A1ka&ssne=Mikonos&ssne_untouched=Mikonos&lang=sl&src=searchresults&dest_id=1794&dest_type=region&ac_position=1&ac_click_type=b&ac_langcode=sl&ac_suggestion_list_length=5&search_selected=true&search_pageview_id=2a818a293800089c&checkin=2024-09-14&checkout=2024-09-15&group_adults=2&no_rooms=1&group_children=0&nflt=ht_id%3D204%3Bclass%3D5'\n",
    "\n",
    "# Mikonos:\n",
    "m_url_1 = 'https://www.booking.com/searchresults.sl.html?label=sl-si-booking-desktop-FsnyDB7yiGUix7z9_JK_IgS652796012637%3Apl%3Ata%3Ap1%3Ap2%3Aac%3Aap%3Aneg%3Afi%3Atikwd-65526620%3Alp9062551%3Ali%3Adec%3Adm&aid=2311236&ss=Mikonos%2C+Gr%C4%8Dija&ssne=Krk&ssne_untouched=Krk&lang=sl&src=searchresults&dest_id=2813&dest_type=region&ac_position=0&ac_click_type=b&ac_langcode=sl&ac_suggestion_list_length=5&search_selected=true&search_pageview_id=0d8b86cf5d75037b&checkin=2024-09-14&checkout=2024-09-15&group_adults=2&no_rooms=1&group_children=0&nflt=ht_id%3D204%3Bclass%3D1'\n",
    "m_url_2 = 'https://www.booking.com/searchresults.sl.html?label=sl-si-booking-desktop-FsnyDB7yiGUix7z9_JK_IgS652796012637%3Apl%3Ata%3Ap1%3Ap2%3Aac%3Aap%3Aneg%3Afi%3Atikwd-65526620%3Alp9062551%3Ali%3Adec%3Adm&aid=2311236&ss=Mikonos%2C+Gr%C4%8Dija&ssne=Krk&ssne_untouched=Krk&lang=sl&src=searchresults&dest_id=2813&dest_type=region&ac_position=0&ac_click_type=b&ac_langcode=sl&ac_suggestion_list_length=5&search_selected=true&search_pageview_id=0d8b86cf5d75037b&checkin=2024-09-14&checkout=2024-09-15&group_adults=2&no_rooms=1&group_children=0&nflt=ht_id%3D204%3Bclass%3D2'\n",
    "m_url_3 = 'https://www.booking.com/searchresults.sl.html?label=sl-si-booking-desktop-FsnyDB7yiGUix7z9_JK_IgS652796012637%3Apl%3Ata%3Ap1%3Ap2%3Aac%3Aap%3Aneg%3Afi%3Atikwd-65526620%3Alp9062551%3Ali%3Adec%3Adm&aid=2311236&ss=Mikonos%2C+Gr%C4%8Dija&ssne=Krk&ssne_untouched=Krk&lang=sl&src=searchresults&dest_id=2813&dest_type=region&ac_position=0&ac_click_type=b&ac_langcode=sl&ac_suggestion_list_length=5&search_selected=true&search_pageview_id=0d8b86cf5d75037b&checkin=2024-09-14&checkout=2024-09-15&group_adults=2&no_rooms=1&group_children=0&nflt=ht_id%3D204%3Bclass%3D3'\n",
    "m_url_4 = 'https://www.booking.com/searchresults.sl.html?label=sl-si-booking-desktop-FsnyDB7yiGUix7z9_JK_IgS652796012637%3Apl%3Ata%3Ap1%3Ap2%3Aac%3Aap%3Aneg%3Afi%3Atikwd-65526620%3Alp9062551%3Ali%3Adec%3Adm&aid=2311236&ss=Mikonos%2C+Gr%C4%8Dija&ssne=Krk&ssne_untouched=Krk&lang=sl&src=searchresults&dest_id=2813&dest_type=region&ac_position=0&ac_click_type=b&ac_langcode=sl&ac_suggestion_list_length=5&search_selected=true&search_pageview_id=0d8b86cf5d75037b&checkin=2024-09-14&checkout=2024-09-15&group_adults=2&no_rooms=1&group_children=0&nflt=class%3D4%3Bht_id%3D204'\n",
    "m_url_5 = 'https://www.booking.com/searchresults.sl.html?label=sl-si-booking-desktop-FsnyDB7yiGUix7z9_JK_IgS652796012637%3Apl%3Ata%3Ap1%3Ap2%3Aac%3Aap%3Aneg%3Afi%3Atikwd-65526620%3Alp9062551%3Ali%3Adec%3Adm&aid=2311236&ss=Mikonos%2C+Gr%C4%8Dija&ssne=Krk&ssne_untouched=Krk&lang=sl&src=searchresults&dest_id=2813&dest_type=region&ac_position=0&ac_click_type=b&ac_langcode=sl&ac_suggestion_list_length=5&search_selected=true&search_pageview_id=0d8b86cf5d75037b&checkin=2024-09-14&checkout=2024-09-15&group_adults=2&no_rooms=1&group_children=0&nflt=class%3D5%3Bht_id%3D204'\n",
    "\n",
    "\n",
    "# CSV datoteke, v katere bomo shranili podatke\n",
    "amsterdam_csv = 'amsterdam.csv'\n",
    "split_csv = 'split.csv'\n",
    "mikonos_csv = 'mikonos.csv'"
   ]
  },
  {
   "cell_type": "markdown",
   "metadata": {},
   "source": [
    "Ker Booking Pythonu ne dovoli črpanje HTML vsebine, bomo uporabili Selenium. Ta nam bo pomagal, da nas bo Booking prepoznal kot navadnega uporabnika. \n",
    "Nato pa bomo z uporabo BeautifulSoup izčrpali vse želene podatke."
   ]
  },
  {
   "cell_type": "code",
   "execution_count": 2,
   "metadata": {},
   "outputs": [],
   "source": [
    "from selenium import webdriver\n",
    "from selenium.webdriver.chrome.options import Options\n",
    "from selenium.webdriver.chrome.service import Service\n",
    "from webdriver_manager.chrome import ChromeDriverManager\n",
    "from selenium.webdriver.common.by import By\n",
    "import time\n",
    "from bs4 import BeautifulSoup\n",
    "import re\n"
   ]
  },
  {
   "cell_type": "markdown",
   "metadata": {},
   "source": [
    "Booking nalaga oglase dinamično, kar pomeni, da ne naloži vseh podatkov naenkrat. Zato se moramo, da bi videli oglase, pomakniti z miško dol po spletni strani in na dnu strani klikniti na gumb 'Naloži več rezultatov'. Spodnja funkcija bo storila ravno to: najprej bo rekla Bookingu naj naloži vse oglase (s pomikanjem in klikanjem na gumb) in po tem bo iz nih črpala lastnosti."
   ]
  },
  {
   "cell_type": "code",
   "execution_count": 3,
   "metadata": {},
   "outputs": [],
   "source": [
    "# Da ne bi naenkrat nalagali prevelike vsebine, lahko HTML razdelimo na več delov, ki morajo biti disjunktni \n",
    "# (t.j. noben oglas se ne sme pojaviti v več delih). En takih filtrov, ki ga lahko uporabimo je število zvezdic, saj ne more en hotel imeti \n",
    "# različno število zvezdic. Ravno zaradi tega razloga smo na začetku definirali URL-je s hoteli z različnim številom zvezdic.\n",
    "# Ker pa bomo primerjarli hotele tudi po drugih lokacijah, bomo med kategorije dodali tudi lokacijo.\n",
    "\n",
    "# Funkcija bo zato kot argumente sprejela URL, število zvezdic hotelov in lokacijo.\n",
    "def potegni_hotele(url, zvezdice, lokacija):\n",
    "\n",
    "    chrome_options = Options()\n",
    "\n",
    "    driver = webdriver.Chrome(service=Service(ChromeDriverManager().install()), options=chrome_options)\n",
    "\n",
    "    driver.get(url)\n",
    "\n",
    "    # Pomaknimo se na dno strani\n",
    "    for _ in range(30):\n",
    "        driver.execute_script(\"window.scrollBy(0, 1000);\")\n",
    "        time.sleep(1) # Počakamo 1 sekundo da se podatki naložijo\n",
    "\n",
    "\n",
    "    # Poskusimo poiskati gumb \"Naloži več rezultatov\"\n",
    "    try:\n",
    "        button = driver.find_element(\n",
    "            By.XPATH, \"//button[@class='dba1b3bddf e99c25fd33 ea757ee64b f1c8772a7d ea220f5cdc f870aa1234']\"\n",
    "        )\n",
    "        button.click() # Kliknemo na gumb\n",
    "    except Exception:\n",
    "        # Če gumb ni prisoten (kar se zgodi, ko je oglasov dovolj za na eno stran), ga preskočimo. Funkcija naj izpiše 'Gumba ni'.\n",
    "        print(\"Gumba ni\")\n",
    "        \n",
    "    time.sleep(5)\n",
    "        \n",
    "    # Ko je vse naloženo, lahko potegnemo HTML vsebino\n",
    "    html_vsebina = driver.page_source \n",
    "\n",
    "    driver.quit()\n",
    "\n",
    "    # HTML kodo bomo obdelali z BeautifulSoup\n",
    "    soup = BeautifulSoup(html_vsebina, 'html.parser')\n",
    "\n",
    "    # V tem primeru smo se odločili, da nas zanimajo cene, ocene gostov ter število zvezdic hotelov. \n",
    "    # Na spletni strani od Bookinga si lahko s pomočjo orodja 'inspect' ogledamo HTML vsebino in pogledamo kako so elementi strukturirani. Običajno so\n",
    "    # z obeh strani obdani s posebnimi 'oznakami' (npr. <div>, <span>), vmes pa je zapisana enolična koda oz. atribut, ki identificira določeno lastnost.\n",
    "    # Ko najdemo in razpoznamo strukture elementov, jih povemu Pythonu, da bo lahko iz njih izluščil potrebne informacije.\n",
    "    naslovi_struktura = soup.select('div[data-testid=\"title\"]')\n",
    "    cene_struktura = soup.select('span[data-testid=\"price-and-discounted-price\"]')\n",
    "    ocene_struktura = soup.select('div[data-testid=\"review-score\"]')\n",
    "\n",
    "    # Ustvarimo prazen seznam za shranjevanje lastnosti hotelov\n",
    "    hoteli = []\n",
    "\n",
    "    # Z zanko se sprehodimo po hotelih in si zapisujemo njihove lastnosti\n",
    "    for i in range(len(naslovi_struktura)):\n",
    "        hotel_ime = naslovi_struktura[i].text\n",
    "        hotel_cena = cene_struktura[i].text.strip().replace('\\xa0', ' ')\n",
    "        hotel_ocena = ocene_struktura[i].text\n",
    "    \n",
    "        # Ocena se pokaže malo drugače kot želeno, zato jo izluščimo\n",
    "        vzorec = r'(\\d),(\\d)'\n",
    "        match = re.search(vzorec, hotel_ocena)\n",
    "        if match:\n",
    "            hotel_ocena = f\"{match.group(1)},{match.group(2)}\"\n",
    "        else:\n",
    "            hotel_ocena = \"Ni ocene\"\n",
    "\n",
    "\n",
    "        # Elementi seznama bodo slovarji, katerih ključi bodo kategorije\n",
    "        hoteli.append({'lokacija': lokacija, 'ime': hotel_ime, 'cena': hotel_cena, 'ocena gostov': hotel_ocena, 'število zvezdic': zvezdice})\n",
    "\n",
    "\n",
    "    return hoteli\n",
    "\n"
   ]
  },
  {
   "cell_type": "markdown",
   "metadata": {},
   "source": [
    "## Pridobivanje podatkov"
   ]
  },
  {
   "cell_type": "markdown",
   "metadata": {},
   "source": [
    "Ko imamo funkcijo za pridobivanje informacij o hotelih, jo lahko uporabimo na URL-jih.\n"
   ]
  },
  {
   "cell_type": "code",
   "execution_count": 4,
   "metadata": {},
   "outputs": [
    {
     "name": "stdout",
     "output_type": "stream",
     "text": [
      "Gumba ni\n",
      "Gumba ni\n",
      "Gumba ni\n",
      "Gumba ni\n",
      "Gumba ni\n",
      "[{'lokacija': 'Amsterdam', 'ime': 'Orange Tulip Hotel', 'cena': '€ 336', 'ocena gostov': '6,2', 'število zvezdic': 1}, {'lokacija': 'Amsterdam', 'ime': 'Hotel Continental Amsterdam', 'cena': '€ 538', 'ocena gostov': '5,1', 'število zvezdic': 1}, {'lokacija': 'Amsterdam', 'ime': 'The Old Nickel Hotel', 'cena': '€ 546', 'ocena gostov': '6,9', 'število zvezdic': 1}, {'lokacija': 'Amsterdam', 'ime': 'Mozart Hotel', 'cena': '€ 359', 'ocena gostov': '7,3', 'število zvezdic': 2}, {'lokacija': 'Amsterdam', 'ime': 'Weber Hotel', 'cena': '€ 491', 'ocena gostov': '8,1', 'število zvezdic': 2}, {'lokacija': 'Amsterdam', 'ime': 'Weber Hotel 117', 'cena': '€ 544', 'ocena gostov': '8,0', 'število zvezdic': 2}, {'lokacija': 'Amsterdam', 'ime': 'Hotel Manofa', 'cena': '€ 350', 'ocena gostov': '7,2', 'število zvezdic': 2}, {'lokacija': 'Amsterdam', 'ime': 'Hotel Washington', 'cena': '€ 339', 'ocena gostov': '7,2', 'število zvezdic': 2}, {'lokacija': 'Amsterdam', 'ime': 'Dam Hotel', 'cena': '€ 385', 'ocena gostov': '6,2', 'število zvezdic': 2}, {'lokacija': 'Amsterdam', 'ime': 'Facade Hotel Amsterdam', 'cena': '€ 419', 'ocena gostov': '7,1', 'število zvezdic': 2}, {'lokacija': 'Amsterdam', 'ime': 'Hotel Amsterdam Inn', 'cena': '€ 372', 'ocena gostov': '6,7', 'število zvezdic': 2}, {'lokacija': 'Amsterdam', 'ime': 'Weber Hotel 397', 'cena': '€ 461', 'ocena gostov': '8,5', 'število zvezdic': 2}, {'lokacija': 'Amsterdam', 'ime': 'Hotel Pagi', 'cena': '€ 435', 'ocena gostov': '7,0', 'število zvezdic': 2}, {'lokacija': 'Amsterdam', 'ime': 'Budget Trianon Hotel', 'cena': '€ 426', 'ocena gostov': '6,8', 'število zvezdic': 2}, {'lokacija': 'Amsterdam', 'ime': 'Amsterdam Downtown Hotel', 'cena': '€ 374', 'ocena gostov': '6,9', 'število zvezdic': 2}, {'lokacija': 'Amsterdam', 'ime': 'Hotel Damrak Inn', 'cena': '€ 918', 'ocena gostov': '7,1', 'število zvezdic': 2}, {'lokacija': 'Amsterdam', 'ime': 'Maxhotel Amsterdam Airport Schiphol', 'cena': '€ 181', 'ocena gostov': '7,8', 'število zvezdic': 2}, {'lokacija': 'Amsterdam', 'ime': 'Hotel Velsen', 'cena': '€ 139', 'ocena gostov': '7,0', 'število zvezdic': 2}, {'lokacija': 'Amsterdam', 'ime': 'Hotel Omega', 'cena': '€ 396', 'ocena gostov': '8,1', 'število zvezdic': 3}, {'lokacija': 'Amsterdam', 'ime': 'Joy Hotel', 'cena': '€ 318', 'ocena gostov': '7,4', 'število zvezdic': 3}, {'lokacija': 'Amsterdam', 'ime': 'Bunk Hotel Amsterdam', 'cena': '€ 205', 'ocena gostov': '8,5', 'število zvezdic': 3}, {'lokacija': 'Amsterdam', 'ime': 'Holiday Inn Express Amsterdam - Sloterdijk Station, an IHG Hotel', 'cena': '€ 418', 'ocena gostov': '8,0', 'število zvezdic': 3}, {'lokacija': 'Amsterdam', 'ime': 'Golden Mansion Aparthotel', 'cena': '€ 446', 'ocena gostov': '7,8', 'število zvezdic': 3}, {'lokacija': 'Amsterdam', 'ime': 'Melrose Hotel', 'cena': '€ 496', 'ocena gostov': '7,7', 'število zvezdic': 3}, {'lokacija': 'Amsterdam', 'ime': 'XO Hotels Infinity', 'cena': '€ 276', 'ocena gostov': '7,7', 'število zvezdic': 3}, {'lokacija': 'Amsterdam', 'ime': 'Hotel Fogo Amsterdam', 'cena': '€ 264', 'ocena gostov': '7,5', 'število zvezdic': 3}, {'lokacija': 'Amsterdam', 'ime': 'Hotel Mosaic City Centre', 'cena': '€ 403', 'ocena gostov': '7,7', 'število zvezdic': 3}, {'lokacija': 'Amsterdam', 'ime': 'The Arcade Hotel Amsterdam', 'cena': '€ 357', 'ocena gostov': '7,8', 'število zvezdic': 3}, {'lokacija': 'Amsterdam', 'ime': 'Hotel2Stay', 'cena': '€ 324', 'ocena gostov': '8,6', 'število zvezdic': 3}, {'lokacija': 'Amsterdam', 'ime': 'Holiday Inn Express Amsterdam - City Hall, an IHG Hotel', 'cena': '€ 470', 'ocena gostov': '8,2', 'število zvezdic': 3}, {'lokacija': 'Amsterdam', 'ime': 'Q-Factory Hotel', 'cena': '€ 333', 'ocena gostov': '7,1', 'število zvezdic': 3}, {'lokacija': 'Amsterdam', 'ime': 'Bastion Hotel Amsterdam Zuidwest', 'cena': '€ 300', 'ocena gostov': '6,7', 'število zvezdic': 3}, {'lokacija': 'Amsterdam', 'ime': 'XO Hotel Inner', 'cena': '€ 420', 'ocena gostov': '7,8', 'število zvezdic': 3}, {'lokacija': 'Amsterdam', 'ime': 'Amsterdam Teleport Hotel', 'cena': '€ 369', 'ocena gostov': '7,5', 'število zvezdic': 3}, {'lokacija': 'Amsterdam', 'ime': 'The Times Hotel', 'cena': '€ 455', 'ocena gostov': '8,1', 'število zvezdic': 3}, {'lokacija': 'Amsterdam', 'ime': 'Bastion Hotel Amsterdam Amstel', 'cena': '€ 349', 'ocena gostov': '7,0', 'število zvezdic': 3}, {'lokacija': 'Amsterdam', 'ime': 'Hotel Vondel Garden City Centre', 'cena': '€ 405', 'ocena gostov': '6,8', 'število zvezdic': 3}, {'lokacija': 'Amsterdam', 'ime': 'Aadam Hotel Wilhelmina', 'cena': '€ 356', 'ocena gostov': '7,1', 'število zvezdic': 3}, {'lokacija': 'Amsterdam', 'ime': 'Bastion Hotel Amsterdam Noord', 'cena': '€ 311', 'ocena gostov': '6,7', 'število zvezdic': 3}, {'lokacija': 'Amsterdam', 'ime': 'Hotel Van Gogh', 'cena': '€ 512', 'ocena gostov': '8,0', 'število zvezdic': 3}, {'lokacija': 'Amsterdam', 'ime': 'Hotel Alexander', 'cena': '€ 523', 'ocena gostov': '8,0', 'število zvezdic': 3}, {'lokacija': 'Amsterdam', 'ime': 'Hotel Frank since 1666', 'cena': '€ 460', 'ocena gostov': '8,6', 'število zvezdic': 3}, {'lokacija': 'Amsterdam', 'ime': 'Hotel & Wellness Zuiver', 'cena': '€ 527', 'ocena gostov': '8,3', 'število zvezdic': 3}, {'lokacija': 'Amsterdam', 'ime': 'Hotel Vossius Vondelpark', 'cena': '€ 439', 'ocena gostov': '7,1', 'število zvezdic': 3}, {'lokacija': 'Amsterdam', 'ime': 'Hotel Iron Horse Amsterdam', 'cena': '€ 405', 'ocena gostov': '7,4', 'število zvezdic': 3}, {'lokacija': 'Amsterdam', 'ime': 'Max Brown Hotel Museum Square, part of Sircle Collection', 'cena': '€ 396', 'ocena gostov': '7,8', 'število zvezdic': 3}, {'lokacija': 'Amsterdam', 'ime': 'i hotel', 'cena': '€ 401', 'ocena gostov': '7,2', 'število zvezdic': 3}, {'lokacija': 'Amsterdam', 'ime': 'The Concert Hotel', 'cena': '€ 502', 'ocena gostov': '7,7', 'število zvezdic': 3}, {'lokacija': 'Amsterdam', 'ime': 'Qbic Amsterdam WTC', 'cena': '€ 524', 'ocena gostov': '7,8', 'število zvezdic': 3}, {'lokacija': 'Amsterdam', 'ime': 'Hotel Nicolaas Witsen', 'cena': '€ 572', 'ocena gostov': '8,7', 'število zvezdic': 3}, {'lokacija': 'Amsterdam', 'ime': 'Hotel New Kit', 'cena': '€ 460', 'ocena gostov': '7,9', 'število zvezdic': 3}, {'lokacija': 'Amsterdam', 'ime': 'Hotel Library Amsterdam', 'cena': '€ 544', 'ocena gostov': '8,0', 'število zvezdic': 3}, {'lokacija': 'Amsterdam', 'ime': 'Parklane Hotel', 'cena': '€ 583', 'ocena gostov': '7,3', 'število zvezdic': 3}, {'lokacija': 'Amsterdam', 'ime': 'Amsterdam ID Aparthotel', 'cena': '€ 450', 'ocena gostov': '8,7', 'število zvezdic': 3}, {'lokacija': 'Amsterdam', 'ime': 'Krisotel', 'cena': '€ 462', 'ocena gostov': '8,4', 'število zvezdic': 3}, {'lokacija': 'Amsterdam', 'ime': 'Hotel CC', 'cena': '€ 915', 'ocena gostov': '7,9', 'število zvezdic': 3}, {'lokacija': 'Amsterdam', 'ime': 'The Pavilions Amsterdam, The Toren', 'cena': '€ 690', 'ocena gostov': '8,9', 'število zvezdic': 4}, {'lokacija': 'Amsterdam', 'ime': 'Hotel V Fizeaustraat', 'cena': '€ 496', 'ocena gostov': '8,9', 'število zvezdic': 4}, {'lokacija': 'Amsterdam', 'ime': 'Hotel Jakarta Amsterdam', 'cena': '€ 404', 'ocena gostov': '9,0', 'število zvezdic': 4}, {'lokacija': 'Amsterdam', 'ime': 'Leonardo Hotel Amsterdam Rembrandtpark', 'cena': '€ 343', 'ocena gostov': '8,0', 'število zvezdic': 4}, {'lokacija': 'Amsterdam', 'ime': 'Courtyard by Marriott Amsterdam Arena Atlas', 'cena': '€ 523', 'ocena gostov': '8,2', 'število zvezdic': 4}, {'lokacija': 'Amsterdam', 'ime': 'Mercure Hotel Amsterdam West', 'cena': '€ 484', 'ocena gostov': '7,5', 'število zvezdic': 4}, {'lokacija': 'Amsterdam', 'ime': 'DoubleTree by Hilton Amsterdam - NDSM Wharf', 'cena': '€ 812', 'ocena gostov': '8,4', 'število zvezdic': 4}, {'lokacija': 'Amsterdam', 'ime': 'Sonder Park House', 'cena': '€ 558', 'ocena gostov': '7,5', 'število zvezdic': 4}, {'lokacija': 'Amsterdam', 'ime': 'Park Inn by Radisson Amsterdam City West', 'cena': '€ 356', 'ocena gostov': '8,0', 'število zvezdic': 4}, {'lokacija': 'Amsterdam', 'ime': 'citizenM Amstel Amsterdam', 'cena': '€ 520', 'ocena gostov': '8,8', 'število zvezdic': 4}, {'lokacija': 'Amsterdam', 'ime': 'Postillion Hotel Amsterdam', 'cena': '€ 361', 'ocena gostov': '8,6', 'število zvezdic': 4}, {'lokacija': 'Amsterdam', 'ime': 'Hampton by Hilton Amsterdam Centre East', 'cena': '€ 420', 'ocena gostov': '8,4', 'število zvezdic': 4}, {'lokacija': 'Amsterdam', 'ime': 'Mercure Amsterdam Sloterdijk Station', 'cena': '€ 358', 'ocena gostov': '8,4', 'število zvezdic': 4}, {'lokacija': 'Amsterdam', 'ime': 'OZO Hotels Arena Amsterdam', 'cena': '€ 334', 'ocena gostov': '7,4', 'število zvezdic': 4}, {'lokacija': 'Amsterdam', 'ime': 'Mövenpick Hotel Amsterdam City Centre', 'cena': '€ 501', 'ocena gostov': '8,3', 'število zvezdic': 4}, {'lokacija': 'Amsterdam', 'ime': 'Novotel Amsterdam City', 'cena': '€ 410', 'ocena gostov': '8,2', 'število zvezdic': 4}, {'lokacija': 'Amsterdam', 'ime': 'Inntel Hotels Amsterdam Landmark', 'cena': '€ 402', 'ocena gostov': '8,2', 'število zvezdic': 4}, {'lokacija': 'Amsterdam', 'ime': 'Jaz in the City Amsterdam', 'cena': '€ 376', 'ocena gostov': '8,7', 'število zvezdic': 4}, {'lokacija': 'Amsterdam', 'ime': 'The Unbound Amsterdam', 'cena': '€ 267', 'ocena gostov': '8,5', 'število zvezdic': 4}, {'lokacija': 'Amsterdam', 'ime': 'Monet Garden Hotel Amsterdam', 'cena': '€ 499', 'ocena gostov': '8,9', 'število zvezdic': 4}, {'lokacija': 'Amsterdam', 'ime': 'Dikker & Thijs Hotel', 'cena': '€ 492', 'ocena gostov': '7,9', 'število zvezdic': 4}, {'lokacija': 'Amsterdam', 'ime': 'NH Amsterdam Noord', 'cena': '€ 412', 'ocena gostov': '8,3', 'število zvezdic': 4}, {'lokacija': 'Amsterdam', 'ime': 'SUPPER Hotel', 'cena': '€ 439', 'ocena gostov': '7,4', 'število zvezdic': 4}, {'lokacija': 'Amsterdam', 'ime': 'Morgan & Mees Amsterdam', 'cena': '€ 564', 'ocena gostov': '8,8', 'število zvezdic': 4}, {'lokacija': 'Amsterdam', 'ime': 'Bob W Amsterdam Noord', 'cena': '€ 394', 'ocena gostov': '8,8', 'število zvezdic': 4}, {'lokacija': 'Amsterdam', 'ime': 'Van der Valk Hotel Amsterdam - Amstel', 'cena': '€ 522', 'ocena gostov': '8,7', 'število zvezdic': 4}, {'lokacija': 'Amsterdam', 'ime': 'Eden Hotel Amsterdam', 'cena': '€ 432', 'ocena gostov': '8,2', 'število zvezdic': 4}, {'lokacija': 'Amsterdam', 'ime': 'Inntel Hotels Amsterdam Centre', 'cena': '€ 577', 'ocena gostov': '8,2', 'število zvezdic': 4}, {'lokacija': 'Amsterdam', 'ime': 'The Lancaster Hotel Amsterdam', 'cena': '€ 466', 'ocena gostov': '7,8', 'število zvezdic': 4}, {'lokacija': 'Amsterdam', 'ime': 'The July - Boat & Co', 'cena': '€ 475', 'ocena gostov': '9,2', 'število zvezdic': 4}, {'lokacija': 'Amsterdam', 'ime': 'Room Mate Aitana', 'cena': '€ 529', 'ocena gostov': '8,4', 'število zvezdic': 4}, {'lokacija': 'Amsterdam', 'ime': 'Van der Valk Hotel Amsterdam Zuidas -Rai', 'cena': '€ 702', 'ocena gostov': '8,7', 'število zvezdic': 4}, {'lokacija': 'Amsterdam', 'ime': 'Banks Mansion - All Inclusive Boutique Hotel', 'cena': '€ 548', 'ocena gostov': '8,8', 'število zvezdic': 4}, {'lokacija': 'Amsterdam', 'ime': 'YOTEL Amsterdam', 'cena': '€ 411', 'ocena gostov': '8,1', 'število zvezdic': 4}, {'lokacija': 'Amsterdam', 'ime': 'Crowne Plaza Amsterdam - South, an IHG Hotel', 'cena': '€ 560', 'ocena gostov': '8,6', 'število zvezdic': 4}, {'lokacija': 'Amsterdam', 'ime': 'Grand Hotel Downtown', 'cena': '€ 542', 'ocena gostov': '7,7', 'število zvezdic': 4}, {'lokacija': 'Amsterdam', 'ime': 'Jan Luyken Amsterdam', 'cena': '€ 534', 'ocena gostov': '9,0', 'število zvezdic': 4}, {'lokacija': 'Amsterdam', 'ime': 'NH Collection Amsterdam Flower Market', 'cena': '€ 696', 'ocena gostov': '8,5', 'število zvezdic': 4}, {'lokacija': 'Amsterdam', 'ime': 'The July - Twenty Eight', 'cena': '€ 518', 'ocena gostov': '9,1', 'število zvezdic': 4}, {'lokacija': 'Amsterdam', 'ime': 'Park Centraal Amsterdam, part of Sircle Collection', 'cena': '€ 599', 'ocena gostov': '8,2', 'število zvezdic': 4}, {'lokacija': 'Amsterdam', 'ime': 'Radisson Blu Hotel, Amsterdam City Center', 'cena': '€ 741', 'ocena gostov': '8,4', 'število zvezdic': 4}, {'lokacija': 'Amsterdam', 'ime': 'Hotel V Nesplein', 'cena': '€ 713', 'ocena gostov': '8,8', 'število zvezdic': 4}, {'lokacija': 'Amsterdam', 'ime': 'NH Amsterdam Schiller', 'cena': '€ 563', 'ocena gostov': '8,2', 'število zvezdic': 4}, {'lokacija': 'Amsterdam', 'ime': 'Park Plaza Victoria Amsterdam', 'cena': '€ 764', 'ocena gostov': '8,5', 'število zvezdic': 4}, {'lokacija': 'Amsterdam', 'ime': 'INNSiDE by Meliá Amsterdam', 'cena': '€ 587', 'ocena gostov': '8,6', 'število zvezdic': 4}, {'lokacija': 'Amsterdam', 'ime': \"art'otel amsterdam, Powered by Radisson Hotels\", 'cena': '€ 824', 'ocena gostov': '8,8', 'število zvezdic': 4}, {'lokacija': 'Amsterdam', 'ime': 'Boutique Hotel Notting Hill', 'cena': '€ 627', 'ocena gostov': '8,7', 'število zvezdic': 4}, {'lokacija': 'Amsterdam', 'ime': 'The College Hotel Amsterdam, Autograph Collection', 'cena': '€ 624', 'ocena gostov': '8,2', 'število zvezdic': 4}, {'lokacija': 'Amsterdam', 'ime': 'Swissôtel Amsterdam', 'cena': '€ 981', 'ocena gostov': '8,2', 'število zvezdic': 4}, {'lokacija': 'Amsterdam', 'ime': 'The Social Hub Amsterdam West 4 star', 'cena': '€ 1.114', 'ocena gostov': '8,4', 'število zvezdic': 4}, {'lokacija': 'Amsterdam', 'ime': 'DoubleTree by Hilton Amsterdam Centraal Station', 'cena': '€ 835', 'ocena gostov': '7,6', 'število zvezdic': 4}, {'lokacija': 'Amsterdam', 'ime': 'Amadi Panorama Hotel', 'cena': '€ 346', 'ocena gostov': '7,6', 'število zvezdic': 4}, {'lokacija': 'Amsterdam', 'ime': 'Hotel Amsterdam De Roode Leeuw', 'cena': '€ 489', 'ocena gostov': '7,6', 'število zvezdic': 4}, {'lokacija': 'Amsterdam', 'ime': 'YAYS Amsterdam Maritime by Numa', 'cena': '€ 414', 'ocena gostov': '8,4', 'število zvezdic': 4}, {'lokacija': 'Amsterdam', 'ime': 'Tribe Amsterdam City', 'cena': '€ 457', 'ocena gostov': '9,0', 'število zvezdic': 4}, {'lokacija': 'Amsterdam', 'ime': 'Bob W Oosterpark', 'cena': '€ 463', 'ocena gostov': '9,0', 'število zvezdic': 4}, {'lokacija': 'Amsterdam', 'ime': 'Nova Apartments Amsterdam', 'cena': '€ 623', 'ocena gostov': '8,6', 'število zvezdic': 4}, {'lokacija': 'Amsterdam', 'ime': 'Huygens Place Amsterdam', 'cena': '€ 493', 'ocena gostov': '8,6', 'število zvezdic': 4}, {'lokacija': 'Amsterdam', 'ime': 'Park Plaza Vondelpark Amsterdam', 'cena': '€ 700', 'ocena gostov': '8,6', 'število zvezdic': 4}, {'lokacija': 'Amsterdam', 'ime': 'De L’Europe Amsterdam – The Leading Hotels of the World', 'cena': '€ 1.076', 'ocena gostov': '8,8', 'število zvezdic': 5}, {'lokacija': 'Amsterdam', 'ime': 'Hyatt Regency Amsterdam', 'cena': '€ 1.086', 'ocena gostov': '8,4', 'število zvezdic': 5}, {'lokacija': 'Amsterdam', 'ime': 'W Amsterdam', 'cena': '€ 818', 'ocena gostov': '7,6', 'število zvezdic': 5}, {'lokacija': 'Amsterdam', 'ime': 'Pillows Grand Boutique Hotel Maurits at the Park - Small Luxury Hotels', 'cena': '€ 897', 'ocena gostov': '9,4', 'število zvezdic': 5}, {'lokacija': 'Amsterdam', 'ime': 'InterContinental Amstel Amsterdam, an IHG Hotel', 'cena': '€ 921', 'ocena gostov': '8,7', 'število zvezdic': 5}, {'lokacija': 'Amsterdam', 'ime': 'Hilton Amsterdam', 'cena': '€ 973', 'ocena gostov': '8,0', 'število zvezdic': 5}, {'lokacija': 'Amsterdam', 'ime': 'Andaz Amsterdam Prinsengracht - a concept by Hyatt', 'cena': '€ 905', 'ocena gostov': '8,8', 'število zvezdic': 5}, {'lokacija': 'Amsterdam', 'ime': 'Anantara Grand Hotel Krasnapolsky Amsterdam', 'cena': '€ 842', 'ocena gostov': '8,7', 'število zvezdic': 5}, {'lokacija': 'Amsterdam', 'ime': 'Conservatorium Hotel', 'cena': '€ 1.117', 'ocena gostov': '8,9', 'število zvezdic': 5}, {'lokacija': 'Amsterdam', 'ime': 'Sofitel Legend The Grand Amsterdam', 'cena': '€ 938', 'ocena gostov': '8,9', 'število zvezdic': 5}, {'lokacija': 'Amsterdam', 'ime': 'Brasss Hotel Suites', 'cena': '€ 442', 'ocena gostov': '8,9', 'število zvezdic': 5}]\n",
      "126\n"
     ]
    }
   ],
   "source": [
    "# Hoteli v Amsterdamu\n",
    "\n",
    "vsi_hoteli_a = []\n",
    "urls_a = [\n",
    "    (a_url_1, 1, 'Amsterdam'), # hoteli z eno zvezdico\n",
    "    (a_url_2, 2, 'Amsterdam'), # hoteli z dvema zvezdicama\n",
    "    (a_url_3, 3, 'Amsterdam'), # hoteli s tremi zvezdicami\n",
    "    (a_url_4, 4, 'Amsterdam'), # hoteli s štirimi zvezdicami\n",
    "    (a_url_5, 5, 'Amsterdam')  # hoteli s petimi zvezdicami\n",
    "]\n",
    "\n",
    "for url, zvezdice, lokacija in urls_a:\n",
    "    hoteli = potegni_hotele(url, zvezdice, lokacija)\n",
    "    vsi_hoteli_a.extend(hoteli)\n",
    "\n",
    "# Sedaj imamo vse hotele v Amsterdamu združene v seznamu 'vsi_hoteli_a'\n",
    "print(vsi_hoteli_a)\n",
    "print(len(vsi_hoteli_a))"
   ]
  },
  {
   "cell_type": "code",
   "execution_count": 5,
   "metadata": {},
   "outputs": [
    {
     "name": "stdout",
     "output_type": "stream",
     "text": [
      "Gumba ni\n",
      "Gumba ni\n",
      "Gumba ni\n",
      "[{'lokacija': 'Split', 'ime': 'Fontana Resort', 'cena': '€ 45', 'ocena gostov': '7,0', 'število zvezdic': 2}, {'lokacija': 'Split', 'ime': 'Hotel Alem', 'cena': '€ 119', 'ocena gostov': '7,1', 'število zvezdic': 2}, {'lokacija': 'Split', 'ime': 'Arkada Hotel', 'cena': '€ 127', 'ocena gostov': '7,0', 'število zvezdic': 2}, {'lokacija': 'Split', 'ime': 'Slavija Culture Heritage Hotel', 'cena': '€ 384', 'ocena gostov': '8,7', 'število zvezdic': 3}, {'lokacija': 'Split', 'ime': 'Hotel Alkar', 'cena': '€ 68', 'ocena gostov': '8,2', 'število zvezdic': 3}, {'lokacija': 'Split', 'ime': 'Hotel Kastil', 'cena': '€ 90', 'ocena gostov': '8,2', 'število zvezdic': 3}, {'lokacija': 'Split', 'ime': 'Bluesun hotel Neptun - All inclusive', 'cena': '€ 223', 'ocena gostov': '8,5', 'število zvezdic': 3}, {'lokacija': 'Split', 'ime': 'Agava Apartments', 'cena': '€ 46', 'ocena gostov': '9,5', 'število zvezdic': 3}, {'lokacija': 'Split', 'ime': 'Hotel Ballet School', 'cena': '€ 113', 'ocena gostov': '8,3', 'število zvezdic': 3}, {'lokacija': 'Split', 'ime': 'Hotel Prvan', 'cena': '€ 85', 'ocena gostov': '7,7', 'število zvezdic': 3}, {'lokacija': 'Split', 'ime': 'Hotel Aqua - Guest Rooms & Suites Kaštela', 'cena': '€ 84', 'ocena gostov': '8,0', 'število zvezdic': 3}, {'lokacija': 'Split', 'ime': 'Labranda Velaris Village', 'cena': '€ 128', 'ocena gostov': '8,2', 'število zvezdic': 3}, {'lokacija': 'Split', 'ime': 'Fresh Apartments Dar Orlic', 'cena': '€ 71', 'ocena gostov': '8,4', 'število zvezdic': 3}, {'lokacija': 'Split', 'ime': 'Garden Apartment Hotel', 'cena': '€ 87', 'ocena gostov': '8,2', 'število zvezdic': 3}, {'lokacija': 'Split', 'ime': 'Hotel Viktorija', 'cena': '€ 146', 'ocena gostov': '9,0', 'število zvezdic': 3}, {'lokacija': 'Split', 'ime': 'Hotel Hvar', 'cena': '€ 101', 'ocena gostov': '7,3', 'število zvezdic': 3}, {'lokacija': 'Split', 'ime': 'Bluesun Hotel Borak', 'cena': '€ 162', 'ocena gostov': '8,9', 'število zvezdic': 3}, {'lokacija': 'Split', 'ime': 'Hotel Venezia Imotski', 'cena': '€ 107', 'ocena gostov': '8,3', 'število zvezdic': 3}, {'lokacija': 'Split', 'ime': 'Villa Daniela', 'cena': '€ 92', 'ocena gostov': '8,5', 'število zvezdic': 3}, {'lokacija': 'Split', 'ime': 'Villa Katarina', 'cena': '€ 92', 'ocena gostov': '8,6', 'število zvezdic': 3}, {'lokacija': 'Split', 'ime': 'Makarska Sunny Resort', 'cena': '€ 187', 'ocena gostov': '8,5', 'število zvezdic': 3}, {'lokacija': 'Split', 'ime': 'Hotel Sirena Hvar', 'cena': '€ 99', 'ocena gostov': '7,1', 'število zvezdic': 3}, {'lokacija': 'Split', 'ime': 'Hotel Adria', 'cena': '€ 113', 'ocena gostov': '8,2', 'število zvezdic': 3}, {'lokacija': 'Split', 'ime': 'Hotel Trogirski Dvori', 'cena': '€ 104', 'ocena gostov': '8,2', 'število zvezdic': 3}, {'lokacija': 'Split', 'ime': 'Hotel Villa Dvor', 'cena': '€ 189', 'ocena gostov': '9,2', 'število zvezdic': 3}, {'lokacija': 'Split', 'ime': 'Beach Hotel', 'cena': '€ 105', 'ocena gostov': '7,2', 'število zvezdic': 3}, {'lokacija': 'Split', 'ime': 'Family Beach Rooms', 'cena': '€ 74', 'ocena gostov': '8,6', 'število zvezdic': 3}, {'lokacija': 'Split', 'ime': 'Holiday Village Sagitta - Light All Inclusive', 'cena': '€ 148', 'ocena gostov': '7,7', 'število zvezdic': 3}, {'lokacija': 'Split', 'ime': 'Hotel Vila Tina', 'cena': '€ 123', 'ocena gostov': '8,9', 'število zvezdic': 3}, {'lokacija': 'Split', 'ime': 'Villa Verica', 'cena': '€ 89', 'ocena gostov': '8,8', 'število zvezdic': 3}, {'lokacija': 'Split', 'ime': 'Annex building of Art Hotel', 'cena': '€ 133', 'ocena gostov': '8,6', 'število zvezdic': 3}, {'lokacija': 'Split', 'ime': 'Hotel Batuda', 'cena': '€ 116', 'ocena gostov': '9,0', 'število zvezdic': 3}, {'lokacija': 'Split', 'ime': 'Hotel Maritimo', 'cena': '€ 143', 'ocena gostov': '9,1', 'število zvezdic': 3}, {'lokacija': 'Split', 'ime': 'Hotel Jadran', 'cena': '€ 144', 'ocena gostov': '6,7', 'število zvezdic': 3}, {'lokacija': 'Split', 'ime': 'Hotel Consul', 'cena': '€ 173', 'ocena gostov': '8,7', 'število zvezdic': 3}, {'lokacija': 'Split', 'ime': 'Hotel Buenavista Beach House Trogir', 'cena': '€ 72', 'ocena gostov': '8,5', 'število zvezdic': 3}, {'lokacija': 'Split', 'ime': 'Hotel Sunce', 'cena': '€ 205', 'ocena gostov': '8,2', 'število zvezdic': 3}, {'lokacija': 'Split', 'ime': 'Benjamin Hotel', 'cena': '€ 95', 'ocena gostov': '8,8', 'število zvezdic': 3}, {'lokacija': 'Split', 'ime': 'Villa Knez', 'cena': '€ 124', 'ocena gostov': '9,1', 'število zvezdic': 3}, {'lokacija': 'Split', 'ime': 'Hotel Krilo', 'cena': '€ 90', 'ocena gostov': '7,8', 'število zvezdic': 3}, {'lokacija': 'Split', 'ime': 'Hotel Kastel 1700', 'cena': '€ 194', 'ocena gostov': '8,7', 'število zvezdic': 3}, {'lokacija': 'Split', 'ime': 'Hotel Val All Inclusive', 'cena': '€ 162', 'ocena gostov': '7,9', 'število zvezdic': 3}, {'lokacija': 'Split', 'ime': 'Hotel As', 'cena': '€ 116', 'ocena gostov': '8,4', 'število zvezdic': 3}, {'lokacija': 'Split', 'ime': 'Villa M', 'cena': '€ 158', 'ocena gostov': '8,6', 'število zvezdic': 3}, {'lokacija': 'Split', 'ime': 'Villa Jidro', 'cena': '€ 99', 'ocena gostov': '8,7', 'število zvezdic': 3}, {'lokacija': 'Split', 'ime': 'Villa Bougenvilia Tomas', 'cena': '€ 106', 'ocena gostov': '8,9', 'število zvezdic': 3}, {'lokacija': 'Split', 'ime': 'Apartments Vila Adrijana & Fitness Studio WOLF BV', 'cena': '€ 72', 'ocena gostov': '8,7', 'število zvezdic': 3}, {'lokacija': 'Split', 'ime': 'Hotel Neva', 'cena': '€ 139', 'ocena gostov': '8,5', 'število zvezdic': 3}, {'lokacija': 'Split', 'ime': 'Adriatik Paradise', 'cena': '€ 59', 'ocena gostov': '6,7', 'število zvezdic': 3}, {'lokacija': 'Split', 'ime': 'Hotel More', 'cena': '€ 180', 'ocena gostov': '8,0', 'število zvezdic': 3}, {'lokacija': 'Split', 'ime': 'Hotel Medena Budget', 'cena': '€ 138', 'ocena gostov': '5,3', 'število zvezdic': 3}, {'lokacija': 'Split', 'ime': 'Labranda Velaris Resort', 'cena': '€ 215', 'ocena gostov': '8,6', 'število zvezdic': 4}, {'lokacija': 'Split', 'ime': 'TUI BLUE Makarska - Adults Only', 'cena': '€ 174', 'ocena gostov': '8,8', 'število zvezdic': 4}, {'lokacija': 'Split', 'ime': 'TUI BLUE Adriatic Beach - All Inclusive - Adults Only', 'cena': '€ 322', 'ocena gostov': '8,8', 'število zvezdic': 4}, {'lokacija': 'Split', 'ime': 'Labranda Senses Resort', 'cena': '€ 209', 'ocena gostov': '8,3', 'število zvezdic': 4}, {'lokacija': 'Split', 'ime': 'Hotel SOL', 'cena': '€ 108', 'ocena gostov': '9,2', 'število zvezdic': 4}, {'lokacija': 'Split', 'ime': 'Hotel Bellevue Trogir', 'cena': '€ 187', 'ocena gostov': '9,6', 'število zvezdic': 4}, {'lokacija': 'Split', 'ime': 'Grand Hotel View', 'cena': '€ 290', 'ocena gostov': '9,1', 'število zvezdic': 4}, {'lokacija': 'Split', 'ime': 'Hotel Horizont', 'cena': '€ 133', 'ocena gostov': '7,9', 'število zvezdic': 4}, {'lokacija': 'Split', 'ime': 'Pharos Hvar Hotel', 'cena': '€ 255', 'ocena gostov': '8,4', 'število zvezdic': 4}, {'lokacija': 'Split', 'ime': 'Hotel Aria', 'cena': '€ 143', 'ocena gostov': '9,6', 'število zvezdic': 4}, {'lokacija': 'Split', 'ime': 'The Residence Aparthotel', 'cena': '€ 154', 'ocena gostov': '8,0', 'število zvezdic': 4}, {'lokacija': 'Split', 'ime': 'Hotel - Aparthotel Teranea City Hvar', 'cena': '€ 377', 'ocena gostov': '9,0', 'število zvezdic': 4}, {'lokacija': 'Split', 'ime': 'Hotel Salona Palace', 'cena': '€ 180', 'ocena gostov': '8,7', 'število zvezdic': 4}, {'lokacija': 'Split', 'ime': 'Amfora Hvar Grand Beach Resort', 'cena': '€ 369', 'ocena gostov': '8,3', 'število zvezdic': 4}, {'lokacija': 'Split', 'ime': 'Grand Hotel Slavia', 'cena': '€ 177', 'ocena gostov': '9,1', 'število zvezdic': 4}, {'lokacija': 'Split', 'ime': 'Hotel Saint Hildegard', 'cena': '€ 211', 'ocena gostov': '9,1', 'število zvezdic': 4}, {'lokacija': 'Split', 'ime': 'Sperone Hotel', 'cena': '€ 300', 'ocena gostov': '9,1', 'število zvezdic': 4}, {'lokacija': 'Split', 'ime': 'Aparthotel Miramare', 'cena': '€ 182', 'ocena gostov': '8,8', 'število zvezdic': 4}, {'lokacija': 'Split', 'ime': 'Amphora Hotel', 'cena': '€ 310', 'ocena gostov': '8,5', 'število zvezdic': 4}, {'lokacija': 'Split', 'ime': 'Hotel Podstine', 'cena': '€ 271', 'ocena gostov': '8,5', 'število zvezdic': 4}, {'lokacija': 'Split', 'ime': 'Marvie Hotel & Health', 'cena': '€ 261', 'ocena gostov': '9,0', 'število zvezdic': 4}, {'lokacija': 'Split', 'ime': 'Hotel Biokovo', 'cena': '€ 164', 'ocena gostov': '8,7', 'število zvezdic': 4}, {'lokacija': 'Split', 'ime': 'Boutique Hotel Noemia', 'cena': '€ 264', 'ocena gostov': '9,5', 'število zvezdic': 4}, {'lokacija': 'Split', 'ime': 'Hotel Fanat', 'cena': '€ 224', 'ocena gostov': '8,6', 'število zvezdic': 4}, {'lokacija': 'Split', 'ime': 'Hotel Sveti Kriz', 'cena': '€ 147', 'ocena gostov': '7,5', 'število zvezdic': 4}, {'lokacija': 'Split', 'ime': 'Hotel Trogir Palace', 'cena': '€ 162', 'ocena gostov': '8,4', 'število zvezdic': 4}, {'lokacija': 'Split', 'ime': 'Central Square Heritage Hotel', 'cena': '€ 409', 'ocena gostov': '9,0', 'število zvezdic': 4}, {'lokacija': 'Split', 'ime': 'Bluesun Hotel Marina', 'cena': '€ 213', 'ocena gostov': '8,5', 'število zvezdic': 4}, {'lokacija': 'Split', 'ime': 'Hotel Corner', 'cena': '€ 198', 'ocena gostov': '8,7', 'število zvezdic': 4}, {'lokacija': 'Split', 'ime': 'Residence by Vestibul Palace', 'cena': '€ 348', 'ocena gostov': '9,3', 'število zvezdic': 4}, {'lokacija': 'Split', 'ime': 'Hotel Nestos', 'cena': '€ 180', 'ocena gostov': '9,2', 'število zvezdic': 4}, {'lokacija': 'Split', 'ime': 'Marinus Beach Hotel', 'cena': '€ 550', 'ocena gostov': '9,3', 'število zvezdic': 4}, {'lokacija': 'Split', 'ime': 'Bluesun Hotel Alga', 'cena': '€ 169', 'ocena gostov': '8,2', 'število zvezdic': 4}, {'lokacija': 'Split', 'ime': 'Adriana Hvar Spa Hotel', 'cena': '€ 576', 'ocena gostov': '9,2', 'število zvezdic': 4}, {'lokacija': 'Split', 'ime': 'Villa Nepos Hotel', 'cena': '€ 453', 'ocena gostov': '9,6', 'število zvezdic': 4}, {'lokacija': 'Split', 'ime': 'Belado Residence Bol', 'cena': '€ 170', 'ocena gostov': '9,8', 'število zvezdic': 4}, {'lokacija': 'Split', 'ime': 'Hotel Mondo', 'cena': '€ 141', 'ocena gostov': '8,6', 'število zvezdic': 4}, {'lokacija': 'Split', 'ime': 'Hotel Milna Osam - Adults Only', 'cena': '€ 179', 'ocena gostov': '8,8', 'število zvezdic': 4}, {'lokacija': 'Split', 'ime': 'Heritage Hotel 19', 'cena': '€ 369', 'ocena gostov': '9,2', 'število zvezdic': 4}, {'lokacija': 'Split', 'ime': 'Bluesun Hotel Elaphusa', 'cena': '€ 166', 'ocena gostov': '8,6', 'število zvezdic': 4}, {'lokacija': 'Split', 'ime': 'Medora Auri Family Beach Resort', 'cena': '€ 205', 'ocena gostov': '9,2', 'število zvezdic': 4}, {'lokacija': 'Split', 'ime': 'Hotel Park Makarska', 'cena': '€ 229', 'ocena gostov': '9,0', 'število zvezdic': 4}, {'lokacija': 'Split', 'ime': 'lo͝or luxury retreat', 'cena': '€ 202', 'ocena gostov': '9,3', 'število zvezdic': 4}, {'lokacija': 'Split', 'ime': 'PRIMA Life Spalato', 'cena': '€ 137', 'ocena gostov': '7,5', 'število zvezdic': 4}, {'lokacija': 'Split', 'ime': 'Riva Marina Hvar Hotel', 'cena': '€ 528', 'ocena gostov': '9,1', 'število zvezdic': 4}, {'lokacija': 'Split', 'ime': 'Divota Apartment Hotel', 'cena': '€ 215', 'ocena gostov': '9,1', 'število zvezdic': 4}, {'lokacija': 'Split', 'ime': 'Bluesun Holiday Village Bonaca - Full Board Plus', 'cena': '€ 173', 'ocena gostov': '8,9', 'število zvezdic': 4}, {'lokacija': 'Split', 'ime': 'Hotel Plaža Duće', 'cena': '€ 290', 'ocena gostov': '9,5', 'število zvezdic': 4}, {'lokacija': 'Split', 'ime': 'Zlatni Rat Beach Resort', 'cena': '€ 179', 'ocena gostov': '8,6', 'število zvezdic': 4}, {'lokacija': 'Split', 'ime': 'Mirari Boutique Hotel', 'cena': '€ 378', 'ocena gostov': '9,3', 'število zvezdic': 4}, {'lokacija': 'Split', 'ime': 'Emotheo Heritage Hotel', 'cena': '€ 187', 'ocena gostov': '9,5', 'število zvezdic': 4}, {'lokacija': 'Split', 'ime': 'Hotel Antonio', 'cena': '€ 173', 'ocena gostov': '9,3', 'število zvezdic': 4}, {'lokacija': 'Split', 'ime': 'Lifestyle Hotel Vitar - Adults Only', 'cena': '€ 172', 'ocena gostov': '9,6', 'število zvezdic': 4}, {'lokacija': 'Split', 'ime': 'Villa Amorena - Adults Only', 'cena': '€ 96', 'ocena gostov': '9,4', 'število zvezdic': 4}, {'lokacija': 'Split', 'ime': 'Ark Beach Apartments', 'cena': '€ 199', 'ocena gostov': '8,8', 'število zvezdic': 4}, {'lokacija': 'Split', 'ime': 'Bluesun Hotel Soline', 'cena': '€ 239', 'ocena gostov': '8,7', 'število zvezdic': 4}, {'lokacija': 'Split', 'ime': 'XII Century Heritage Hotel', 'cena': '€ 206', 'ocena gostov': '8,4', 'število zvezdic': 4}, {'lokacija': 'Split', 'ime': 'Galeria Valeria Seaside Downtown - MAG Quaint & Elegant Boutique Hotels', 'cena': '€ 256', 'ocena gostov': '7,9', 'število zvezdic': 4}, {'lokacija': 'Split', 'ime': 'Hotel Rosina', 'cena': '€ 121', 'ocena gostov': '8,7', 'število zvezdic': 4}, {'lokacija': 'Split', 'ime': 'Romana Beach Resort', 'cena': '€ 225', 'ocena gostov': '9,0', 'število zvezdic': 4}, {'lokacija': 'Split', 'ime': 'Villa Giardino Heritage Boutique Hotel Bol', 'cena': '€ 246', 'ocena gostov': '9,7', 'število zvezdic': 4}, {'lokacija': 'Split', 'ime': 'Heritage Hotel Porin Makarska', 'cena': '€ 276', 'ocena gostov': '9,1', 'število zvezdic': 4}, {'lokacija': 'Split', 'ime': 'Hotel Villa Harmony', 'cena': '€ 535', 'ocena gostov': '9,0', 'število zvezdic': 4}, {'lokacija': 'Split', 'ime': 'Hotel Medistone', 'cena': '€ 259', 'ocena gostov': '9,6', 'število zvezdic': 4}, {'lokacija': 'Split', 'ime': 'MORENIA All Inclusive Hotel', 'cena': '€ 219', 'ocena gostov': '8,1', 'število zvezdic': 4}, {'lokacija': 'Split', 'ime': 'Hotel Monika', 'cena': '€ 179', 'ocena gostov': '9,0', 'število zvezdic': 4}, {'lokacija': 'Split', 'ime': 'Hotel Eden', 'cena': '€ 147', 'ocena gostov': '9,0', 'število zvezdic': 4}, {'lokacija': 'Split', 'ime': 'Villa Andrea', 'cena': '€ 245', 'ocena gostov': '9,3', 'število zvezdic': 4}, {'lokacija': 'Split', 'ime': 'Hotel Marul', 'cena': '€ 273', 'ocena gostov': '8,7', 'število zvezdic': 4}, {'lokacija': 'Split', 'ime': 'Yellow house with private parking', 'cena': '€ 115', 'ocena gostov': '8,0', 'število zvezdic': 4}, {'lokacija': 'Split', 'ime': 'Villa Slika', 'cena': '€ 178', 'ocena gostov': '8,9', 'število zvezdic': 4}, {'lokacija': 'Split', 'ime': 'Valamar Meteor Hotel', 'cena': '€ 281', 'ocena gostov': '9,0', 'število zvezdic': 4}, {'lokacija': 'Split', 'ime': 'Bluesun Holiday Village Afrodita', 'cena': '€ 281', 'ocena gostov': '8,5', 'število zvezdic': 4}, {'lokacija': 'Split', 'ime': 'Bluesun Hotel Maestral', 'cena': '€ 252', 'ocena gostov': '9,1', 'število zvezdic': 4}, {'lokacija': 'Split', 'ime': 'Bifora Heritage Hotel', 'cena': '€ 171', 'ocena gostov': '8,5', 'število zvezdic': 4}, {'lokacija': 'Split', 'ime': 'Hotel Laurentum', 'cena': '€ 161', 'ocena gostov': '9,5', 'število zvezdic': 4}, {'lokacija': 'Split', 'ime': 'Hotel Central Beach 9', 'cena': '€ 203', 'ocena gostov': '9,2', 'število zvezdic': 4}, {'lokacija': 'Split', 'ime': 'Hotel Split Inn by President', 'cena': '€ 157', 'ocena gostov': '7,3', 'število zvezdic': 4}, {'lokacija': 'Split', 'ime': 'Heritage Hotel Antique Split', 'cena': '€ 717', 'ocena gostov': '9,7', 'število zvezdic': 4}, {'lokacija': 'Split', 'ime': 'Art Hotel', 'cena': '€ 220', 'ocena gostov': '8,5', 'število zvezdic': 4}, {'lokacija': 'Split', 'ime': 'Heritage hotel Santa Lucia', 'cena': '€ 333', 'ocena gostov': '9,2', 'število zvezdic': 4}, {'lokacija': 'Split', 'ime': 'Apartments Villa Azzurra Bol', 'cena': '€ 163', 'ocena gostov': '9,2', 'število zvezdic': 4}, {'lokacija': 'Split', 'ime': 'Prima Luce Downtown', 'cena': '€ 235', 'ocena gostov': '6,9', 'število zvezdic': 4}, {'lokacija': 'Split', 'ime': 'Heritage Hotel Vila Sikaa', 'cena': '€ 140', 'ocena gostov': '8,2', 'število zvezdic': 4}, {'lokacija': 'Split', 'ime': 'Hotel Tamaris', 'cena': '€ 159', 'ocena gostov': '9,3', 'število zvezdic': 4}, {'lokacija': 'Split', 'ime': 'A Heritage Split', 'cena': '€ 384', 'ocena gostov': '9,6', 'število zvezdic': 4}, {'lokacija': 'Split', 'ime': 'briig boutique hotel', 'cena': '€ 474', 'ocena gostov': '9,1', 'število zvezdic': 4}, {'lokacija': 'Split', 'ime': 'Deluxe Collection Hotel Kastel', 'cena': '€ 271', 'ocena gostov': '9,0', 'število zvezdic': 4}, {'lokacija': 'Split', 'ime': 'Valamar Amicor Green Resort', 'cena': '€ 451', 'ocena gostov': '9,2', 'število zvezdic': 4}, {'lokacija': 'Split', 'ime': 'Hotel Villa Bacchus', 'cena': '€ 160', 'ocena gostov': '9,1', 'število zvezdic': 4}, {'lokacija': 'Split', 'ime': 'Heritage Hotel Kaštelet', 'cena': '€ 194', 'ocena gostov': '9,2', 'število zvezdic': 4}, {'lokacija': 'Split', 'ime': 'Heritage Hotel FERMAI MGallery Split', 'cena': '€ 370', 'ocena gostov': '9,4', 'število zvezdic': 4}, {'lokacija': 'Split', 'ime': 'Heritage Hotel Pasike', 'cena': '€ 155', 'ocena gostov': '8,3', 'število zvezdic': 4}, {'lokacija': 'Split', 'ime': 'Bluesun Mala Berulia', 'cena': '€ 252', 'ocena gostov': '8,9', 'število zvezdic': 4}, {'lokacija': 'Split', 'ime': 'HotelOscar', 'cena': '€ 275', 'ocena gostov': '8,1', 'število zvezdic': 4}, {'lokacija': 'Split', 'ime': 'Hotel Ivan Dujmović Dvori', 'cena': '€ 79', 'ocena gostov': '5,1', 'število zvezdic': 4}, {'lokacija': 'Split', 'ime': 'Aminess Khalani Hotel', 'cena': '€ 254', 'ocena gostov': '9,1', 'število zvezdic': 5}, {'lokacija': 'Split', 'ime': 'Radisson Blu Resort & Spa', 'cena': '€ 605', 'ocena gostov': '8,6', 'število zvezdic': 5}, {'lokacija': 'Split', 'ime': 'Hotel President Solin', 'cena': '€ 247', 'ocena gostov': '8,1', 'število zvezdic': 5}, {'lokacija': 'Split', 'ime': 'Puteus Palace Heritage Hotel', 'cena': '€ 292', 'ocena gostov': '9,4', 'število zvezdic': 5}, {'lokacija': 'Split', 'ime': 'Hotel Moeesy, Blue & Green Oasis', 'cena': '€ 553', 'ocena gostov': '9,4', 'število zvezdic': 5}, {'lokacija': 'Split', 'ime': 'Le Meridien Lav Split', 'cena': '€ 368', 'ocena gostov': '8,5', 'število zvezdic': 5}, {'lokacija': 'Split', 'ime': 'Bluesun hotel Berulia', 'cena': '€ 281', 'ocena gostov': '8,9', 'število zvezdic': 5}, {'lokacija': 'Split', 'ime': 'Bluesun Hotel Jadran', 'cena': '€ 294', 'ocena gostov': '9,3', 'število zvezdic': 5}, {'lokacija': 'Split', 'ime': 'Maslina Resort', 'cena': '€ 1.063', 'ocena gostov': '9,4', 'število zvezdic': 5}, {'lokacija': 'Split', 'ime': 'Damianii Luxury Boutique Hotel & Spa', 'cena': '€ 316', 'ocena gostov': '8,8', 'število zvezdic': 5}, {'lokacija': 'Split', 'ime': 'Heritage Hotel Martinis Marchi', 'cena': '€ 418', 'ocena gostov': '9,7', 'število zvezdic': 5}, {'lokacija': 'Split', 'ime': 'Hotel Park Split', 'cena': '€ 673', 'ocena gostov': '9,0', 'število zvezdic': 5}]\n",
      "159\n"
     ]
    }
   ],
   "source": [
    "# Hoteli na Splitu\n",
    "\n",
    "vsi_hoteli_s = []\n",
    "urls_s = [\n",
    "    (s_url_2, 2, 'Split'), # hoteli z dvema zvezdicama\n",
    "    (s_url_3, 3, 'Split'),  # hoteli s tremi zvezdicami\n",
    "    (s_url_4, 4, 'Split'), # hoteli s štirimi zvezdicami\n",
    "    (s_url_5, 5, 'Split')  # hoteli s petimi zvezdicami\n",
    "]\n",
    "\n",
    "for url, zvezdice, lokacija in urls_s:\n",
    "    hoteli = potegni_hotele(url, zvezdice, lokacija)\n",
    "    vsi_hoteli_s.extend(hoteli)\n",
    "\n",
    "# Sedaj imamo vse hotele na Splitu združene v seznamu 'vsi_hoteli_s'\n",
    "print(vsi_hoteli_s)\n",
    "print(len(vsi_hoteli_s))"
   ]
  },
  {
   "cell_type": "code",
   "execution_count": 6,
   "metadata": {},
   "outputs": [
    {
     "name": "stdout",
     "output_type": "stream",
     "text": [
      "Gumba ni\n",
      "Gumba ni\n",
      "Gumba ni\n",
      "Gumba ni\n",
      "Gumba ni\n",
      "[{'lokacija': 'Mikonos', 'ime': 'Hotel Nazos', 'cena': '€ 182', 'ocena gostov': '9,1', 'število zvezdic': 1}, {'lokacija': 'Mikonos', 'ime': 'Hotel Milena', 'cena': '€ 122', 'ocena gostov': '9,5', 'število zvezdic': 1}, {'lokacija': 'Mikonos', 'ime': 'Paradise Beach Resort', 'cena': '€ 173', 'ocena gostov': '7,2', 'število zvezdic': 2}, {'lokacija': 'Mikonos', 'ime': 'Manto Hotel', 'cena': '€ 132', 'ocena gostov': '8,3', 'število zvezdic': 2}, {'lokacija': 'Mikonos', 'ime': 'Paraga View', 'cena': '€ 157', 'ocena gostov': '7,7', 'število zvezdic': 2}, {'lokacija': 'Mikonos', 'ime': 'Panorama Hotel', 'cena': '€ 90', 'ocena gostov': '6,8', 'število zvezdic': 2}, {'lokacija': 'Mikonos', 'ime': 'Hotel Gorgona', 'cena': '€ 142', 'ocena gostov': '8,9', 'število zvezdic': 2}, {'lokacija': 'Mikonos', 'ime': 'Magas Hotel', 'cena': '€ 192', 'ocena gostov': '8,4', 'število zvezdic': 2}, {'lokacija': 'Mikonos', 'ime': 'Alkistis Beach Hotel - Adults Only', 'cena': '€ 243', 'ocena gostov': '8,3', 'število zvezdic': 3}, {'lokacija': 'Mikonos', 'ime': 'Mykonos Pantheon', 'cena': '€ 225', 'ocena gostov': '8,7', 'število zvezdic': 3}, {'lokacija': 'Mikonos', 'ime': 'Villa Konstantin', 'cena': '€ 235', 'ocena gostov': '9,2', 'število zvezdic': 3}, {'lokacija': 'Mikonos', 'ime': 'Erato Hotel Mykonos', 'cena': '€ 256', 'ocena gostov': '9,3', 'število zvezdic': 3}, {'lokacija': 'Mikonos', 'ime': 'Mykonos View Hotel', 'cena': '€ 274', 'ocena gostov': '8,8', 'število zvezdic': 3}, {'lokacija': 'Mikonos', 'ime': 'Kamari Hotel', 'cena': '€ 178', 'ocena gostov': '8,8', 'število zvezdic': 3}, {'lokacija': 'Mikonos', 'ime': 'Zephyros', 'cena': '€ 236', 'ocena gostov': '9,4', 'število zvezdic': 3}, {'lokacija': 'Mikonos', 'ime': 'Mykonos Pro-care Suites', 'cena': '€ 97', 'ocena gostov': '8,3', 'število zvezdic': 3}, {'lokacija': 'Mikonos', 'ime': 'She Mykonos Boutique Hotel', 'cena': '€ 368', 'ocena gostov': '9,0', 'število zvezdic': 3}, {'lokacija': 'Mikonos', 'ime': 'Niriides Homes & Villas', 'cena': '€ 138', 'ocena gostov': '8,9', 'število zvezdic': 3}, {'lokacija': 'Mikonos', 'ime': 'Casa di Angela', 'cena': '€ 127', 'ocena gostov': '9,4', 'število zvezdic': 3}, {'lokacija': 'Mikonos', 'ime': 'Paradise View Hotel', 'cena': '€ 190', 'ocena gostov': '9,5', 'število zvezdic': 3}, {'lokacija': 'Mikonos', 'ime': \"Artemoula's Studios\", 'cena': '€ 152', 'ocena gostov': '9,4', 'število zvezdic': 3}, {'lokacija': 'Mikonos', 'ime': 'Peristeronas Village', 'cena': '€ 124', 'ocena gostov': '8,6', 'število zvezdic': 3}, {'lokacija': 'Mikonos', 'ime': 'Marina In Town', 'cena': '€ 140', 'ocena gostov': '9,5', 'število zvezdic': 3}, {'lokacija': 'Mikonos', 'ime': 'Bebis House', 'cena': '€ 97', 'ocena gostov': '8,6', 'število zvezdic': 3}, {'lokacija': 'Mikonos', 'ime': 'Mykonaki Hotel', 'cena': '€ 120', 'ocena gostov': '8,8', 'število zvezdic': 3}, {'lokacija': 'Mikonos', 'ime': 'Paolas Sunset', 'cena': '€ 197', 'ocena gostov': '9,6', 'število zvezdic': 3}, {'lokacija': 'Mikonos', 'ime': 'Elena Hotel Mykonos', 'cena': '€ 210', 'ocena gostov': '8,7', 'število zvezdic': 3}, {'lokacija': 'Mikonos', 'ime': 'Anemos Apartments', 'cena': '€ 302', 'ocena gostov': '9,4', 'število zvezdic': 3}, {'lokacija': 'Mikonos', 'ime': 'Zannis Hotel', 'cena': '€ 134', 'ocena gostov': '7,9', 'število zvezdic': 3}, {'lokacija': 'Mikonos', 'ime': 'Casa Tagoo Mykonos', 'cena': '€ 224', 'ocena gostov': '9,1', 'število zvezdic': 3}, {'lokacija': 'Mikonos', 'ime': 'Hotel Madalena', 'cena': '€ 219', 'ocena gostov': '9,3', 'število zvezdic': 3}, {'lokacija': 'Mikonos', 'ime': 'Mykonos Beach Hotel', 'cena': '€ 201', 'ocena gostov': '7,6', 'število zvezdic': 3}, {'lokacija': 'Mikonos', 'ime': 'Corfos Pearl', 'cena': '€ 101', 'ocena gostov': '9,8', 'število zvezdic': 3}, {'lokacija': 'Mikonos', 'ime': 'Anna-Maria Mykonos Hotel', 'cena': '€ 224', 'ocena gostov': '9,2', 'število zvezdic': 3}, {'lokacija': 'Mikonos', 'ime': 'Hotel Charissi', 'cena': '€ 323', 'ocena gostov': '8,8', 'število zvezdic': 3}, {'lokacija': 'Mikonos', 'ime': 'Sunset Paraportiani Rooms', 'cena': '€ 252', 'ocena gostov': '9,2', 'število zvezdic': 3}, {'lokacija': 'Mikonos', 'ime': 'Olympia', 'cena': '€ 146', 'ocena gostov': '9,2', 'število zvezdic': 3}, {'lokacija': 'Mikonos', 'ime': 'Rania Apartments Sea View', 'cena': '€ 132', 'ocena gostov': '8,7', 'število zvezdic': 3}, {'lokacija': 'Mikonos', 'ime': 'Guru accommodations', 'cena': '€ 162', 'ocena gostov': '8,6', 'število zvezdic': 3}, {'lokacija': 'Mikonos', 'ime': 'Casa Centro Mykonos Suites', 'cena': '€ 180', 'ocena gostov': '7,7', 'število zvezdic': 3}, {'lokacija': 'Mikonos', 'ime': 'Peter Studios', 'cena': '€ 126', 'ocena gostov': '8,4', 'število zvezdic': 3}, {'lokacija': 'Mikonos', 'ime': 'Petasos Chic Hotel', 'cena': '€ 252', 'ocena gostov': '8,5', 'število zvezdic': 3}, {'lokacija': 'Mikonos', 'ime': 'Edem Garden Residence by Estia', 'cena': '€ 175', 'ocena gostov': '8,9', 'število zvezdic': 3}, {'lokacija': 'Mikonos', 'ime': 'Elena Studios & Suites', 'cena': '€ 102', 'ocena gostov': '7,9', 'število zvezdic': 3}, {'lokacija': 'Mikonos', 'ime': 'Granite Village Mykonos', 'cena': '€ 174', 'ocena gostov': '9,2', 'število zvezdic': 3}, {'lokacija': 'Mikonos', 'ime': 'Kamara Residence & Suites', 'cena': '€ 206', 'ocena gostov': '8,3', 'število zvezdic': 3}, {'lokacija': 'Mikonos', 'ime': 'CORFOSTAR ROOMS', 'cena': '€ 104', 'ocena gostov': '7,4', 'število zvezdic': 3}, {'lokacija': 'Mikonos', 'ime': 'Overview Mykonos Apartments', 'cena': '€ 122', 'ocena gostov': '8,7', 'število zvezdic': 3}, {'lokacija': 'Mikonos', 'ime': 'Vaqueros', 'cena': '€ 199', 'ocena gostov': '7,7', 'število zvezdic': 3}, {'lokacija': 'Mikonos', 'ime': 'Kosmoplaz Beach Hotel', 'cena': '€ 171', 'ocena gostov': '8,5', 'število zvezdic': 4}, {'lokacija': 'Mikonos', 'ime': 'Ftelia Bay Boutique Hotel', 'cena': '€ 162', 'ocena gostov': '9,1', 'število zvezdic': 4}, {'lokacija': 'Mikonos', 'ime': 'Aeolos Resort', 'cena': '€ 332', 'ocena gostov': '9,6', 'število zvezdic': 4}, {'lokacija': 'Mikonos', 'ime': 'Mykonos Dream Villas', 'cena': '€ 151', 'ocena gostov': '9,1', 'število zvezdic': 4}, {'lokacija': 'Mikonos', 'ime': 'Mykonos Residence Villas & Suites Merchia Beach', 'cena': '€ 279', 'ocena gostov': '8,9', 'število zvezdic': 4}, {'lokacija': 'Mikonos', 'ime': 'Amyth of Mykonos Super Paradise', 'cena': '€ 262', 'ocena gostov': '9,4', 'število zvezdic': 4}, {'lokacija': 'Mikonos', 'ime': 'Adama Mykonos Boutique Hotel', 'cena': '€ 176', 'ocena gostov': '9,4', 'število zvezdic': 4}, {'lokacija': 'Mikonos', 'ime': 'Petinos Hotel', 'cena': '€ 253', 'ocena gostov': '8,6', 'število zvezdic': 4}, {'lokacija': 'Mikonos', 'ime': 'Sunrise Beach Mykonos - A Myconian Collection Hotel', 'cena': '€ 180', 'ocena gostov': '8,0', 'število zvezdic': 4}, {'lokacija': 'Mikonos', 'ime': 'Poseidon Hotel Suites', 'cena': '€ 346', 'ocena gostov': '9,1', 'število zvezdic': 4}, {'lokacija': 'Mikonos', 'ime': 'WhiteArt Suites', 'cena': '€ 265', 'ocena gostov': '9,8', 'število zvezdic': 4}, {'lokacija': 'Mikonos', 'ime': 'Yi Hotel Mykonos', 'cena': '€ 231', 'ocena gostov': '9,4', 'število zvezdic': 4}, {'lokacija': 'Mikonos', 'ime': \"Manoula's Beach Mykonos Resort\", 'cena': '€ 274', 'ocena gostov': '9,1', 'število zvezdic': 4}, {'lokacija': 'Mikonos', 'ime': 'Panormos Village Hotel', 'cena': '€ 234', 'ocena gostov': '9,0', 'število zvezdic': 4}, {'lokacija': 'Mikonos', 'ime': 'Le Palme Mykonos', 'cena': '€ 235', 'ocena gostov': '9,7', 'število zvezdic': 4}, {'lokacija': 'Mikonos', 'ime': 'Ionic Suites', 'cena': '€ 324', 'ocena gostov': '9,7', 'število zvezdic': 4}, {'lokacija': 'Mikonos', 'ime': 'Porto Mykonos', 'cena': '€ 388', 'ocena gostov': '9,4', 'število zvezdic': 4}, {'lokacija': 'Mikonos', 'ime': 'Enigma Mykonos Hideaway Suites', 'cena': '€ 458', 'ocena gostov': '9,6', 'število zvezdic': 4}, {'lokacija': 'Mikonos', 'ime': 'The George Hotel Mykonos', 'cena': '€ 222', 'ocena gostov': '9,2', 'število zvezdic': 4}, {'lokacija': 'Mikonos', 'ime': 'Sea Rock & Sky Private Mykonos Residence', 'cena': '€ 396', 'ocena gostov': '8,8', 'število zvezdic': 4}, {'lokacija': 'Mikonos', 'ime': 'Deliades Hotel', 'cena': '€ 211', 'ocena gostov': '8,7', 'število zvezdic': 4}, {'lokacija': 'Mikonos', 'ime': 'The Ammonite Resort', 'cena': '€ 272', 'ocena gostov': '9,4', 'število zvezdic': 4}, {'lokacija': 'Mikonos', 'ime': 'Ubud Mykonos', 'cena': '€ 273', 'ocena gostov': '8,6', 'število zvezdic': 4}, {'lokacija': 'Mikonos', 'ime': 'Petinaros Hotel', 'cena': '€ 223', 'ocena gostov': '8,8', 'število zvezdic': 4}, {'lokacija': 'Mikonos', 'ime': 'Petinos Beach Hotel', 'cena': '€ 340', 'ocena gostov': '9,1', 'število zvezdic': 4}, {'lokacija': 'Mikonos', 'ime': 'Ostraco Suites', 'cena': '€ 277', 'ocena gostov': '9,5', 'število zvezdic': 4}, {'lokacija': 'Mikonos', 'ime': 'Casa Del Mar - Small Luxury Hotels of the World', 'cena': '€ 424', 'ocena gostov': '9,2', 'število zvezdic': 4}, {'lokacija': 'Mikonos', 'ime': 'Vencia Boutique Hotel', 'cena': '€ 353', 'ocena gostov': '9,4', 'število zvezdic': 4}, {'lokacija': 'Mikonos', 'ime': 'Alexandros Mykonos', 'cena': '€ 232', 'ocena gostov': '9,1', 'število zvezdic': 4}, {'lokacija': 'Mikonos', 'ime': 'Apsenti couples only', 'cena': '€ 290', 'ocena gostov': '9,3', 'število zvezdic': 4}, {'lokacija': 'Mikonos', 'ime': 'Giannoulaki Resort', 'cena': '€ 137', 'ocena gostov': '9,5', 'število zvezdic': 4}, {'lokacija': 'Mikonos', 'ime': 'Mykonos Essence Adults Only', 'cena': '€ 250', 'ocena gostov': '9,1', 'število zvezdic': 4}, {'lokacija': 'Mikonos', 'ime': 'She Mykonos - The Residency', 'cena': '€ 309', 'ocena gostov': '8,9', 'število zvezdic': 4}, {'lokacija': 'Mikonos', 'ime': 'Mr & Mrs White Mykonos', 'cena': '€ 296', 'ocena gostov': '8,1', 'število zvezdic': 4}, {'lokacija': 'Mikonos', 'ime': 'Mykonos Bay Resort & Villas', 'cena': '€ 361', 'ocena gostov': '9,4', 'število zvezdic': 4}, {'lokacija': 'Mikonos', 'ime': 'Hotel Anatolia', 'cena': '€ 88', 'ocena gostov': '8,9', 'število zvezdic': 4}, {'lokacija': 'Mikonos', 'ime': 'Bard De Sol', 'cena': '€ 330', 'ocena gostov': '9,5', 'število zvezdic': 4}, {'lokacija': 'Mikonos', 'ime': 'Aeri Villas & Apartments', 'cena': '€ 267', 'ocena gostov': '9,1', 'število zvezdic': 4}, {'lokacija': 'Mikonos', 'ime': 'Adikri Villas & Suites', 'cena': '€ 172', 'ocena gostov': '8,9', 'število zvezdic': 4}, {'lokacija': 'Mikonos', 'ime': 'Flaskos Suites and more', 'cena': '€ 152', 'ocena gostov': '9,1', 'število zvezdic': 4}, {'lokacija': 'Mikonos', 'ime': 'Atlantis Beach Residence', 'cena': '€ 167', 'ocena gostov': '9,2', 'število zvezdic': 4}, {'lokacija': 'Mikonos', 'ime': 'Almyra Guest Houses', 'cena': '€ 267', 'ocena gostov': '9,5', 'število zvezdic': 4}, {'lokacija': 'Mikonos', 'ime': 'Portes Suites & Villas Mykonos', 'cena': '€ 249', 'ocena gostov': '9,1', 'število zvezdic': 4}, {'lokacija': 'Mikonos', 'ime': 'Ilio Maris', 'cena': '€ 277', 'ocena gostov': '9,0', 'število zvezdic': 4}, {'lokacija': 'Mikonos', 'ime': 'KLIDON Dreamy Living Suites', 'cena': '€ 233', 'ocena gostov': '9,6', 'število zvezdic': 4}, {'lokacija': 'Mikonos', 'ime': 'Argo Hotel', 'cena': '€ 352', 'ocena gostov': '9,6', 'število zvezdic': 4}, {'lokacija': 'Mikonos', 'ime': 'A Hotel Mykonos', 'cena': '€ 245', 'ocena gostov': '9,3', 'število zvezdic': 4}, {'lokacija': 'Mikonos', 'ime': 'Portobello Boutique Hotel', 'cena': '€ 328', 'ocena gostov': '9,5', 'število zvezdic': 4}, {'lokacija': 'Mikonos', 'ime': 'Island Mykonos Suites', 'cena': '€ 204', 'ocena gostov': '8,6', 'število zvezdic': 4}, {'lokacija': 'Mikonos', 'ime': 'Dorion Hotel', 'cena': '€ 177', 'ocena gostov': '9,3', 'število zvezdic': 4}, {'lokacija': 'Mikonos', 'ime': 'Olive Mykonos Villas', 'cena': '€ 159', 'ocena gostov': '8,9', 'število zvezdic': 4}, {'lokacija': 'Mikonos', 'ime': 'Mazera Boutique Hotel', 'cena': '€ 133', 'ocena gostov': '8,9', 'število zvezdic': 4}, {'lokacija': 'Mikonos', 'ime': 'Pelican Bay Hotel', 'cena': '€ 230', 'ocena gostov': '9,3', 'število zvezdic': 4}, {'lokacija': 'Mikonos', 'ime': 'San Antonio Summerland', 'cena': '€ 274', 'ocena gostov': '9,0', 'število zvezdic': 4}, {'lokacija': 'Mikonos', 'ime': 'Grand Beach Hotel', 'cena': '€ 357', 'ocena gostov': '8,9', 'število zvezdic': 4}, {'lokacija': 'Mikonos', 'ime': 'Paolas Τown Boutique Hotel', 'cena': '€ 163', 'ocena gostov': '8,1', 'število zvezdic': 4}, {'lokacija': 'Mikonos', 'ime': 'Petasos Beach Resort & Spa - Small Luxury Hotels of the World', 'cena': '€ 394', 'ocena gostov': '9,1', 'število zvezdic': 4}, {'lokacija': 'Mikonos', 'ime': 'Aya Sofia Suites', 'cena': '€ 277', 'ocena gostov': '9,5', 'število zvezdic': 4}, {'lokacija': 'Mikonos', 'ime': 'Adorno Beach Hotel and Suites', 'cena': '€ 330', 'ocena gostov': '9,2', 'število zvezdic': 4}, {'lokacija': 'Mikonos', 'ime': 'Mykonos Waves Beach House & Suites', 'cena': '€ 290', 'ocena gostov': '9,6', 'število zvezdic': 4}, {'lokacija': 'Mikonos', 'ime': 'Casa Grande Hotel', 'cena': '€ 198', 'ocena gostov': '8,9', 'število zvezdic': 4}, {'lokacija': 'Mikonos', 'ime': 'Yiannaki Hotel', 'cena': '€ 163', 'ocena gostov': '8,8', 'število zvezdic': 4}, {'lokacija': 'Mikonos', 'ime': 'Osom Resort', 'cena': '€ 199', 'ocena gostov': '9,2', 'število zvezdic': 4}, {'lokacija': 'Mikonos', 'ime': 'Le Ciel Suites & Villas', 'cena': '€ 142', 'ocena gostov': '9,1', 'število zvezdic': 4}, {'lokacija': 'Mikonos', 'ime': 'Andronikos Hotel', 'cena': '€ 323', 'ocena gostov': '9,4', 'število zvezdic': 4}, {'lokacija': 'Mikonos', 'ime': 'Dionysos Luxury Hotel Mykonos', 'cena': '€ 188', 'ocena gostov': '7,5', 'število zvezdic': 4}, {'lokacija': 'Mikonos', 'ime': 'Cova Mykonos Suites', 'cena': '€ 134', 'ocena gostov': '8,9', 'število zvezdic': 4}, {'lokacija': 'Mikonos', 'ime': 'Colours of Mykonos Luxury Residences & Suites', 'cena': '€ 257', 'ocena gostov': '9,2', 'število zvezdic': 4}, {'lokacija': 'Mikonos', 'ime': 'Seethrough Mykonos Suites', 'cena': '€ 260', 'ocena gostov': '9,6', 'število zvezdic': 4}, {'lokacija': 'Mikonos', 'ime': 'Archipelagos Hotel - Small Luxury Hotels of the World', 'cena': '€ 255', 'ocena gostov': '8,5', 'število zvezdic': 5}, {'lokacija': 'Mikonos', 'ime': 'Greco Philia Hotel Boutique', 'cena': '€ 301', 'ocena gostov': '8,4', 'število zvezdic': 5}, {'lokacija': 'Mikonos', 'ime': 'DeLight Boutique Hotel - Small Luxury Hotels of the World', 'cena': '€ 415', 'ocena gostov': '9,2', 'število zvezdic': 5}, {'lokacija': 'Mikonos', 'ime': 'Palladium Hotel', 'cena': '€ 533', 'ocena gostov': '9,7', 'število zvezdic': 5}, {'lokacija': 'Mikonos', 'ime': 'Domes Noruz Mykonos', 'cena': '€ 333', 'ocena gostov': '9,4', 'število zvezdic': 5}, {'lokacija': 'Mikonos', 'ime': 'Anax Resort and Spa', 'cena': '€ 490', 'ocena gostov': '9,5', 'število zvezdic': 5}, {'lokacija': 'Mikonos', 'ime': 'Mykonos Flow - Super Paradise', 'cena': '€ 383', 'ocena gostov': '8,9', 'število zvezdic': 5}, {'lokacija': 'Mikonos', 'ime': 'Anamar Destino Mykonos', 'cena': '€ 342', 'ocena gostov': '9,0', 'število zvezdic': 5}, {'lokacija': 'Mikonos', 'ime': 'The Wild by Interni', 'cena': '€ 709', 'ocena gostov': '8,9', 'število zvezdic': 5}, {'lokacija': 'Mikonos', 'ime': 'Mykonos Ammos Hotel - Small Luxury Hotels of the World', 'cena': '€ 512', 'ocena gostov': '9,5', 'število zvezdic': 5}, {'lokacija': 'Mikonos', 'ime': 'Kivotos Mykonos', 'cena': '€ 566', 'ocena gostov': '8,9', 'število zvezdic': 5}, {'lokacija': 'Mikonos', 'ime': 'Nissaki Boutique Hotel', 'cena': '€ 347', 'ocena gostov': '9,3', 'število zvezdic': 5}, {'lokacija': 'Mikonos', 'ime': 'Cavo Tagoo Mykonos', 'cena': '€ 697', 'ocena gostov': '8,9', 'število zvezdic': 5}, {'lokacija': 'Mikonos', 'ime': 'Nomad Mykonos - Small Luxury Hotels of the World', 'cena': '€ 658', 'ocena gostov': '9,5', 'število zvezdic': 5}, {'lokacija': 'Mikonos', 'ime': 'Collini Suites & Villas Mykonos', 'cena': '€ 467', 'ocena gostov': '9,3', 'število zvezdic': 5}, {'lokacija': 'Mikonos', 'ime': 'Amyth of Mykonos Agios Stefanos', 'cena': '€ 255', 'ocena gostov': '9,6', 'število zvezdic': 5}, {'lokacija': 'Mikonos', 'ime': 'San Marco Hotel and Villas', 'cena': '€ 268', 'ocena gostov': '7,7', 'število zvezdic': 5}, {'lokacija': 'Mikonos', 'ime': 'Katikies Mykonos - The Leading Hotels of the World', 'cena': '€ 648', 'ocena gostov': '8,8', 'število zvezdic': 5}, {'lokacija': 'Mikonos', 'ime': 'Asty Mykonos Hotel & Spa - World of One Hotel Group', 'cena': '€ 360', 'ocena gostov': '9,3', 'število zvezdic': 5}, {'lokacija': 'Mikonos', 'ime': 'Arte & Mare Elia Luxury Suites and Villas', 'cena': '€ 282', 'ocena gostov': '8,4', 'število zvezdic': 5}, {'lokacija': 'Mikonos', 'ime': 'Semeli Hotel Mykonos', 'cena': '€ 354', 'ocena gostov': '9,0', 'število zvezdic': 5}, {'lokacija': 'Mikonos', 'ime': 'Mykonos Dove Beachfront Hotel', 'cena': '€ 429', 'ocena gostov': '8,5', 'število zvezdic': 5}, {'lokacija': 'Mikonos', 'ime': 'Once in Mykonos - Designed for Adults', 'cena': '€ 388', 'ocena gostov': '9,2', 'število zvezdic': 5}, {'lokacija': 'Mikonos', 'ime': 'Akkadian LGBT Boutique Hotel', 'cena': '€ 235', 'ocena gostov': '8,5', 'število zvezdic': 5}, {'lokacija': 'Mikonos', 'ime': 'Amazon Suites', 'cena': '€ 415', 'ocena gostov': '9,7', 'število zvezdic': 5}, {'lokacija': 'Mikonos', 'ime': 'Mykonos Princess Hotel', 'cena': '€ 277', 'ocena gostov': '9,2', 'število zvezdic': 5}, {'lokacija': 'Mikonos', 'ime': 'Nasta Suites & Villas Intentional Living Mykonos', 'cena': '€ 456', 'ocena gostov': '9,1', 'število zvezdic': 5}, {'lokacija': 'Mikonos', 'ime': 'Radisson Blu Euphoria Resort, Mykonos', 'cena': '€ 290', 'ocena gostov': '8,6', 'število zvezdic': 5}, {'lokacija': 'Mikonos', 'ime': 'Epic Blue Mykonos', 'cena': '€ 557', 'ocena gostov': '8,4', 'število zvezdic': 5}, {'lokacija': 'Mikonos', 'ime': 'Anemelia Hotel Mykonos', 'cena': '€ 292', 'ocena gostov': '9,6', 'število zvezdic': 5}, {'lokacija': 'Mikonos', 'ime': 'Noima Boutique Hotel Mykonos', 'cena': '€ 422', 'ocena gostov': '9,5', 'število zvezdic': 5}, {'lokacija': 'Mikonos', 'ime': 'Rocabella Mykonos Hotel', 'cena': '€ 343', 'ocena gostov': '8,7', 'število zvezdic': 5}, {'lokacija': 'Mikonos', 'ime': 'Casa Cook Mykonos - Adults Only', 'cena': '€ 305', 'ocena gostov': '9,2', 'število zvezdic': 5}, {'lokacija': 'Mikonos', 'ime': 'Mykonos Theoxenia, a member of Design Hotels', 'cena': '€ 405', 'ocena gostov': '9,2', 'število zvezdic': 5}, {'lokacija': 'Mikonos', 'ime': 'Grace Mykonos', 'cena': '€ 261', 'ocena gostov': '9,0', 'število zvezdic': 5}, {'lokacija': 'Mikonos', 'ime': 'Koukoumi Vegan Boutique Hotel', 'cena': '€ 303', 'ocena gostov': '9,3', 'število zvezdic': 5}, {'lokacija': 'Mikonos', 'ime': 'Aeonic Suites and Spa', 'cena': '€ 651', 'ocena gostov': '9,6', 'število zvezdic': 5}, {'lokacija': 'Mikonos', 'ime': 'Million Stars Mykonos', 'cena': '€ 451', 'ocena gostov': '8,7', 'število zvezdic': 5}, {'lokacija': 'Mikonos', 'ime': 'Nomia Sunset Suites Mykonos', 'cena': '€ 355', 'ocena gostov': '9,2', 'število zvezdic': 5}, {'lokacija': 'Mikonos', 'ime': 'Bill & Coo Mykonos -The Leading Hotels of the World', 'cena': '€ 865', 'ocena gostov': '9,3', 'število zvezdic': 5}, {'lokacija': 'Mikonos', 'ime': 'Mykonos Blanc - Preferred Hotels & Resorts', 'cena': '€ 441', 'ocena gostov': '9,4', 'število zvezdic': 5}, {'lokacija': 'Mikonos', 'ime': 'Kouros Hotel & Suites', 'cena': '€ 434', 'ocena gostov': '8,6', 'število zvezdic': 5}, {'lokacija': 'Mikonos', 'ime': 'Mileo', 'cena': '€ 397', 'ocena gostov': '9,5', 'število zvezdic': 5}, {'lokacija': 'Mikonos', 'ime': 'NUMO Mykonos Boutique Resort', 'cena': '€ 258', 'ocena gostov': '8,9', 'število zvezdic': 5}, {'lokacija': 'Mikonos', 'ime': 'Archipelagos All Suites', 'cena': '€ 363', 'ocena gostov': '9,3', 'število zvezdic': 5}, {'lokacija': 'Mikonos', 'ime': 'Elia Mykonos Resort', 'cena': '€ 419', 'ocena gostov': '9,3', 'število zvezdic': 5}, {'lokacija': 'Mikonos', 'ime': 'Myconian O a Member of Design Hotels', 'cena': '€ 644', 'ocena gostov': '9,4', 'število zvezdic': 5}, {'lokacija': 'Mikonos', 'ime': 'Panormos Bay Suites Luxury Resort', 'cena': '€ 456', 'ocena gostov': '9,5', 'število zvezdic': 5}, {'lokacija': 'Mikonos', 'ime': 'Boheme Mykonos Town - Small Luxury Hotels of the World', 'cena': '€ 506', 'ocena gostov': '9,0', 'število zvezdic': 5}, {'lokacija': 'Mikonos', 'ime': 'Santa Marina, A Luxury Collection Resort, Mykonos', 'cena': '€ 3.355', 'ocena gostov': '9,3', 'število zvezdic': 5}, {'lokacija': 'Mikonos', 'ime': 'Lovia Mykonos', 'cena': '€ 659', 'ocena gostov': '9,5', 'število zvezdic': 5}, {'lokacija': 'Mikonos', 'ime': 'Belvedere Mykonos - Main Hotel - The Leading Hotels of the World', 'cena': '€ 401', 'ocena gostov': '8,7', 'število zvezdic': 5}, {'lokacija': 'Mikonos', 'ime': 'Kensho Ornos & Myconian Collection', 'cena': '€ 428', 'ocena gostov': '9,7', 'število zvezdic': 5}, {'lokacija': 'Mikonos', 'ime': 'Absolute Mykonos Suites & More', 'cena': '€ 293', 'ocena gostov': '8,9', 'število zvezdic': 5}, {'lokacija': 'Mikonos', 'ime': 'Myconian Ambassador Relais & Chateaux', 'cena': '€ 341', 'ocena gostov': '9,2', 'število zvezdic': 5}, {'lokacija': 'Mikonos', 'ime': 'Myconian Korali Relais & Chateaux', 'cena': '€ 287', 'ocena gostov': '8,7', 'število zvezdic': 5}, {'lokacija': 'Mikonos', 'ime': 'Belvedere Mykonos - Hilltop Rooms & Suites - The Leading Hotels of the World', 'cena': '€ 572', 'ocena gostov': '8,8', 'število zvezdic': 5}, {'lokacija': 'Mikonos', 'ime': 'Nammos Hotel Mykonos', 'cena': '€ 733', 'ocena gostov': '9,3', 'število zvezdic': 5}, {'lokacija': 'Mikonos', 'ime': 'Ethereum Mykonos', 'cena': '€ 730', 'ocena gostov': 'Ni ocene', 'število zvezdic': 5}, {'lokacija': 'Mikonos', 'ime': 'The Coast Bill & Coo -The Leading Hotels of the World', 'cena': '€ 865', 'ocena gostov': '9,3', 'število zvezdic': 5}, {'lokacija': 'Mikonos', 'ime': 'Mykonos Riviera Hotel & Spa, a member of Small Luxury Hotels of the World', 'cena': '€ 457', 'ocena gostov': '9,6', 'število zvezdic': 5}, {'lokacija': 'Mikonos', 'ime': 'Mykonos Grand Hotel & Resort', 'cena': '€ 559', 'ocena gostov': '9,6', 'število zvezdic': 5}, {'lokacija': 'Mikonos', 'ime': 'Kalesma Mykonos', 'cena': '€ 1.660', 'ocena gostov': '8,9', 'število zvezdic': 5}, {'lokacija': 'Mikonos', 'ime': 'Anandes Hotel', 'cena': '€ 460', 'ocena gostov': '9,7', 'število zvezdic': 5}, {'lokacija': 'Mikonos', 'ime': 'Semeli Coast Mykonos Curio Collection by Hilton', 'cena': '€ 512', 'ocena gostov': '8,8', 'število zvezdic': 5}, {'lokacija': 'Mikonos', 'ime': 'Myconian Naia - Preferred Hotels & Resorts', 'cena': '€ 449', 'ocena gostov': '9,0', 'število zvezdic': 5}, {'lokacija': 'Mikonos', 'ime': 'Deos Mykonos - A Myconian Collection Hotel', 'cena': '€ 730', 'ocena gostov': '9,9', 'število zvezdic': 5}, {'lokacija': 'Mikonos', 'ime': 'Myconian Kyma, a Member of Design Hotels', 'cena': '€ 486', 'ocena gostov': '9,0', 'število zvezdic': 5}, {'lokacija': 'Mikonos', 'ime': 'Belvedere Mykonos - Waterfront Villa & Suites - The Leading Hotels of the World', 'cena': '€ 711', 'ocena gostov': '9,5', 'število zvezdic': 5}]\n",
      "187\n"
     ]
    }
   ],
   "source": [
    "# Hoteli na Mikonosu\n",
    "\n",
    "vsi_hoteli_m = []\n",
    "urls_m = [\n",
    "    (m_url_1, 1, 'Mikonos'), # hoteli z eno zvezdico\n",
    "    (m_url_2, 2, 'Mikonos'), # hoteli z dvema zvezdicama\n",
    "    (m_url_3, 3, 'Mikonos'),  # hoteli s tremi zvezdicami\n",
    "    (m_url_4, 4, 'Mikonos'), # hoteli s štirimi zvezdicami\n",
    "    (m_url_5, 5, 'Mikonos')  # hoteli s petimi zvezdicami\n",
    "]\n",
    "\n",
    "for url, zvezdice, lokacija in urls_m:\n",
    "    hoteli = potegni_hotele(url, zvezdice, lokacija)\n",
    "    vsi_hoteli_m.extend(hoteli)\n",
    "\n",
    "# Sedaj imamo vse hotele na Mikonosu združene v seznamu 'vsi_hoteli_m'\n",
    "print(vsi_hoteli_m)\n",
    "print(len(vsi_hoteli_m))"
   ]
  },
  {
   "cell_type": "markdown",
   "metadata": {},
   "source": [
    "## Shranjevanje podatkov"
   ]
  },
  {
   "cell_type": "markdown",
   "metadata": {},
   "source": [
    "Po obdelavi podatkov jih bomo shranili v .csv datoteke, da bodo bolj pregledni in da jih bo lažje analizirati. Pri tem bomo potrebovali paketa 'os' in 'csv'."
   ]
  },
  {
   "cell_type": "code",
   "execution_count": 7,
   "metadata": {},
   "outputs": [],
   "source": [
    "import csv\n",
    "import os"
   ]
  },
  {
   "cell_type": "code",
   "execution_count": 8,
   "metadata": {},
   "outputs": [],
   "source": [
    "# Definirajmo funkcijo, ki bo v csv datoteko vnesla podatke z imeni stolpcev 'fieldnames' in vrednostmi iz 'rows'.\n",
    "# Datoteko csv bo poimenovala 'filename' in jo shranila v mapo 'directory'.\n",
    "def write_csv(fieldnames, rows, directory, filename):\n",
    "    if directory != \"\":\n",
    "        os.makedirs(directory, exist_ok=True)\n",
    "    path = os.path.join(directory, filename)\n",
    "    with open(path, 'w', encoding='utf-8') as csv_datoteka:\n",
    "        writer = csv.DictWriter(csv_datoteka, fieldnames=fieldnames)\n",
    "        writer.writeheader()\n",
    "        for row in rows:\n",
    "            writer.writerow(row)\n",
    "    return"
   ]
  },
  {
   "cell_type": "code",
   "execution_count": 9,
   "metadata": {},
   "outputs": [],
   "source": [
    "# Spodnja funkcija bo ustvarila csv datoteko iz seznama 'oglasi'. Funkcija bo predpostavila, da so ključi vseh slovarjev seznama 'oglasi' enaki in \n",
    "# da je ta seznam neprazen.\n",
    "def zapisi_v_csv(oglasi, directory, filename):\n",
    "    assert oglasi and (all(j.keys() == oglasi[0].keys() for j in oglasi))\n",
    "    fieldnames = ['lokacija', 'ime', 'cena', 'ocena gostov', 'število zvezdic']\n",
    "    \n",
    "    write_csv(fieldnames, oglasi, directory, filename)"
   ]
  },
  {
   "cell_type": "code",
   "execution_count": 10,
   "metadata": {},
   "outputs": [],
   "source": [
    "# Ustvarimo csv datoteke\n",
    "zapisi_v_csv(vsi_hoteli_a, \"\", amsterdam_csv)\n",
    "zapisi_v_csv(vsi_hoteli_s, \"\", split_csv)\n",
    "zapisi_v_csv(vsi_hoteli_m, \"\", mikonos_csv)"
   ]
  }
 ],
 "metadata": {
  "kernelspec": {
   "display_name": "venv",
   "language": "python",
   "name": "python3"
  },
  "language_info": {
   "codemirror_mode": {
    "name": "ipython",
    "version": 3
   },
   "file_extension": ".py",
   "mimetype": "text/x-python",
   "name": "python",
   "nbconvert_exporter": "python",
   "pygments_lexer": "ipython3",
   "version": "3.12.3"
  }
 },
 "nbformat": 4,
 "nbformat_minor": 2
}
